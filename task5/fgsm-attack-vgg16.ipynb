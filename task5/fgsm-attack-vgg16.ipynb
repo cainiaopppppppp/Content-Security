{
 "cells": [
  {
   "cell_type": "code",
   "execution_count": 1,
   "id": "299e8215",
   "metadata": {
    "_cell_guid": "b1076dfc-b9ad-4769-8c92-a6c4dae69d19",
    "_kg_hide-input": false,
    "_uuid": "8f2839f25d086af736a60e9eeb907d3b93b6e0e5",
    "execution": {
     "iopub.execute_input": "2023-11-23T17:00:46.263964Z",
     "iopub.status.busy": "2023-11-23T17:00:46.262997Z",
     "iopub.status.idle": "2023-11-23T17:00:47.488698Z",
     "shell.execute_reply": "2023-11-23T17:00:47.487388Z"
    },
    "papermill": {
     "duration": 1.240452,
     "end_time": "2023-11-23T17:00:47.491161",
     "exception": false,
     "start_time": "2023-11-23T17:00:46.250709",
     "status": "completed"
    },
    "scrolled": true,
    "tags": []
   },
   "outputs": [
    {
     "name": "stdout",
     "output_type": "stream",
     "text": [
      "./data\\MNIST\\raw\\t10k-images-idx3-ubyte\n",
      "./data\\MNIST\\raw\\t10k-images-idx3-ubyte.gz\n",
      "./data\\MNIST\\raw\\t10k-labels-idx1-ubyte\n",
      "./data\\MNIST\\raw\\t10k-labels-idx1-ubyte.gz\n",
      "./data\\MNIST\\raw\\train-images-idx3-ubyte\n",
      "./data\\MNIST\\raw\\train-images-idx3-ubyte.gz\n",
      "./data\\MNIST\\raw\\train-labels-idx1-ubyte\n",
      "./data\\MNIST\\raw\\train-labels-idx1-ubyte.gz\n"
     ]
    }
   ],
   "source": [
    "import numpy as np\n",
    "import pandas as pd\n",
    "import os\n",
    "\n",
    "for dirname, _, filenames in os.walk('./data'):\n",
    "    for filename in filenames:\n",
    "        print(os.path.join(dirname, filename))"
   ]
  },
  {
   "cell_type": "code",
   "execution_count": 2,
   "id": "fa15cd23",
   "metadata": {
    "execution": {
     "iopub.execute_input": "2023-11-23T17:00:47.513345Z",
     "iopub.status.busy": "2023-11-23T17:00:47.512917Z",
     "iopub.status.idle": "2023-11-23T17:00:54.066035Z",
     "shell.execute_reply": "2023-11-23T17:00:54.065292Z"
    },
    "papermill": {
     "duration": 6.56663,
     "end_time": "2023-11-23T17:00:54.068350",
     "exception": false,
     "start_time": "2023-11-23T17:00:47.501720",
     "status": "completed"
    },
    "tags": []
   },
   "outputs": [],
   "source": [
    "from PIL import Image\n",
    "import matplotlib.pyplot as plt\n",
    "\n",
    "import torch\n",
    "import torch.nn as nn\n",
    "import torch.nn.functional as F\n",
    "from torch.autograd import Variable\n",
    "import torchvision\n",
    "import torchvision.transforms as transforms\n",
    "from torchvision import models"
   ]
  },
  {
   "cell_type": "markdown",
   "id": "034648f2",
   "metadata": {
    "papermill": {
     "duration": 0.009889,
     "end_time": "2023-11-23T17:00:54.089132",
     "exception": false,
     "start_time": "2023-11-23T17:00:54.079243",
     "status": "completed"
    },
    "tags": []
   },
   "source": [
    "### 使用GPU"
   ]
  },
  {
   "cell_type": "code",
   "execution_count": 3,
   "id": "f895144f",
   "metadata": {
    "execution": {
     "iopub.execute_input": "2023-11-23T17:00:54.111560Z",
     "iopub.status.busy": "2023-11-23T17:00:54.110737Z",
     "iopub.status.idle": "2023-11-23T17:00:54.214573Z",
     "shell.execute_reply": "2023-11-23T17:00:54.213490Z"
    },
    "papermill": {
     "duration": 0.117362,
     "end_time": "2023-11-23T17:00:54.216560",
     "exception": false,
     "start_time": "2023-11-23T17:00:54.099198",
     "status": "completed"
    },
    "tags": []
   },
   "outputs": [
    {
     "name": "stdout",
     "output_type": "stream",
     "text": [
      "cuda\n"
     ]
    }
   ],
   "source": [
    "device = torch.device(\"cuda\" if torch.cuda.is_available() else \"cpu\")\n",
    "print(device)"
   ]
  },
  {
   "cell_type": "markdown",
   "id": "f33e6eee",
   "metadata": {
    "papermill": {
     "duration": 0.010225,
     "end_time": "2023-11-23T17:00:54.237181",
     "exception": false,
     "start_time": "2023-11-23T17:00:54.226956",
     "status": "completed"
    },
    "tags": []
   },
   "source": [
    "## FGSM 攻击"
   ]
  },
  {
   "cell_type": "code",
   "execution_count": 4,
   "id": "e13206f8",
   "metadata": {
    "execution": {
     "iopub.execute_input": "2023-11-23T17:00:54.258596Z",
     "iopub.status.busy": "2023-11-23T17:00:54.258289Z",
     "iopub.status.idle": "2023-11-23T17:00:54.263423Z",
     "shell.execute_reply": "2023-11-23T17:00:54.262585Z"
    },
    "papermill": {
     "duration": 0.018136,
     "end_time": "2023-11-23T17:00:54.265336",
     "exception": false,
     "start_time": "2023-11-23T17:00:54.247200",
     "status": "completed"
    },
    "tags": []
   },
   "outputs": [],
   "source": [
    "# 生成对抗性样本\n",
    "def perturb(imgs, eps, data_grads):\n",
    "    sign_data_grads = data_grads.sign()\n",
    "    # 添加扰动\n",
    "    adv_imgs = imgs + eps * sign_data_grads\n",
    "    adv_imgs = torch.clamp(adv_imgs, 0, 1)\n",
    "    return adv_imgs"
   ]
  },
  {
   "cell_type": "code",
   "execution_count": 5,
   "id": "7f72c911",
   "metadata": {
    "execution": {
     "iopub.execute_input": "2023-11-23T17:00:54.286456Z",
     "iopub.status.busy": "2023-11-23T17:00:54.286187Z",
     "iopub.status.idle": "2023-11-23T17:00:54.291844Z",
     "shell.execute_reply": "2023-11-23T17:00:54.290992Z"
    },
    "papermill": {
     "duration": 0.018305,
     "end_time": "2023-11-23T17:00:54.293725",
     "exception": false,
     "start_time": "2023-11-23T17:00:54.275420",
     "status": "completed"
    },
    "tags": []
   },
   "outputs": [],
   "source": [
    "# FGSM攻击\n",
    "def fgsm_attack(model, imgs, labels, eps):\n",
    "    imgs.required_grad = True\n",
    "    \n",
    "    outputs = model(imgs)\n",
    "    loss = F.nll_loss(outputs, labels)\n",
    "    \n",
    "    model.zero_grad()\n",
    "    loss.backward()\n",
    "    data_grads = imgs.grad.data\n",
    "    \n",
    "    # 生成对抗性图像\n",
    "    adv_imgs = perturb(imgs, eps, data_grads)\n",
    "    outputs = model(adv_imgs)\n",
    "    new_preds = outputs.argmax(axis=1)\n",
    "    \n",
    "    return adv_imgs, new_preds"
   ]
  },
  {
   "cell_type": "code",
   "execution_count": 6,
   "id": "d7bf520a",
   "metadata": {
    "execution": {
     "iopub.execute_input": "2023-11-23T17:00:54.315190Z",
     "iopub.status.busy": "2023-11-23T17:00:54.314887Z",
     "iopub.status.idle": "2023-11-23T17:00:54.318961Z",
     "shell.execute_reply": "2023-11-23T17:00:54.318125Z"
    },
    "papermill": {
     "duration": 0.017269,
     "end_time": "2023-11-23T17:00:54.320994",
     "exception": false,
     "start_time": "2023-11-23T17:00:54.303725",
     "status": "completed"
    },
    "tags": []
   },
   "outputs": [],
   "source": [
    "# 扰动系数\n",
    "epsilons = [0.00, 0.10, 0.20, 0.30, 0.40, 0.50, 0.60, 0.70, 1.0, 1.5]"
   ]
  },
  {
   "cell_type": "markdown",
   "id": "dc92a16f",
   "metadata": {
    "papermill": {
     "duration": 0.010254,
     "end_time": "2023-11-23T17:00:54.342053",
     "exception": false,
     "start_time": "2023-11-23T17:00:54.331799",
     "status": "completed"
    },
    "tags": []
   },
   "source": [
    "## VGG-16 (预训练模型)"
   ]
  },
  {
   "cell_type": "code",
   "execution_count": 7,
   "id": "2081bd8f",
   "metadata": {
    "_kg_hide-input": true,
    "execution": {
     "iopub.execute_input": "2023-11-23T17:00:54.363259Z",
     "iopub.status.busy": "2023-11-23T17:00:54.362984Z",
     "iopub.status.idle": "2023-11-23T17:00:54.377225Z",
     "shell.execute_reply": "2023-11-23T17:00:54.376414Z"
    },
    "papermill": {
     "duration": 0.026895,
     "end_time": "2023-11-23T17:00:54.379058",
     "exception": false,
     "start_time": "2023-11-23T17:00:54.352163",
     "status": "completed"
    },
    "tags": []
   },
   "outputs": [],
   "source": [
    "class VGGBlock(nn.Module):\n",
    "    def __init__(self, in_channels, out_channels, batch_norm=False):\n",
    "        super().__init__()\n",
    "        conv2_params = {'kernel_size': (3, 3),\n",
    "                        'stride'     : (1, 1),\n",
    "                        'padding'   : 1}\n",
    "\n",
    "        noop = lambda x : x\n",
    "        self._batch_norm = batch_norm\n",
    "\n",
    "        self.conv1 = nn.Conv2d(in_channels=in_channels, out_channels=out_channels , **conv2_params)\n",
    "        self.bn1 = nn.BatchNorm2d(out_channels) if batch_norm else noop\n",
    "\n",
    "        self.conv2 = nn.Conv2d(in_channels=out_channels, out_channels=out_channels, **conv2_params)\n",
    "        self.bn2 = nn.BatchNorm2d(out_channels) if batch_norm else noop\n",
    "\n",
    "        self.max_pooling = nn.MaxPool2d(kernel_size=(2, 2), stride=(2, 2))\n",
    "\n",
    "    @property\n",
    "    def batch_norm(self):\n",
    "        return self._batch_norm\n",
    "\n",
    "    def forward(self,x):\n",
    "        x = self.conv1(x)\n",
    "        x = self.bn1(x)\n",
    "        x = F.relu(x)\n",
    "\n",
    "        x = self.conv2(x)\n",
    "        x = self.bn2(x)\n",
    "        x = F.relu(x)\n",
    "\n",
    "        x = self.max_pooling(x)\n",
    "\n",
    "        return x\n",
    "    \n",
    "\n",
    "class VGG16(nn.Module):\n",
    "    def __init__(self, input_size, num_classes=10, batch_norm=False):\n",
    "        super(VGG16, self).__init__()\n",
    "\n",
    "        self.in_channels, self.in_width, self.in_height = input_size\n",
    "\n",
    "        self.block_1 = VGGBlock(self.in_channels, 64, batch_norm=batch_norm)\n",
    "        self.block_2 = VGGBlock(64, 128, batch_norm=batch_norm)\n",
    "        self.block_3 = VGGBlock(128, 256, batch_norm=batch_norm)\n",
    "        self.block_4 = VGGBlock(256,512, batch_norm=batch_norm)\n",
    "\n",
    "        self.classifier = nn.Sequential(\n",
    "                nn.Linear(2048, 4096),\n",
    "                nn.ReLU(True),\n",
    "                nn.Dropout(p=0.65),\n",
    "                nn.Linear(4096, 4096),\n",
    "                nn.ReLU(True),\n",
    "                nn.Dropout(p=0.65),\n",
    "                nn.Linear(4096, num_classes) \n",
    "            )\n",
    "\n",
    "    @property\n",
    "    def input_size(self):\n",
    "          return self.in_channels, self.in_width, self.in_height\n",
    "\n",
    "    def forward(self, x):\n",
    "        x = self.block_1(x)\n",
    "        x = self.block_2(x)\n",
    "        x = self.block_3(x)\n",
    "        x = self.block_4(x)\n",
    "        x = x.view(x.size(0), -1)\n",
    "        x = self.classifier(x)\n",
    "\n",
    "        return x"
   ]
  },
  {
   "cell_type": "code",
   "execution_count": 8,
   "id": "d265c0bb",
   "metadata": {
    "execution": {
     "iopub.execute_input": "2023-11-23T17:00:54.400173Z",
     "iopub.status.busy": "2023-11-23T17:00:54.399868Z",
     "iopub.status.idle": "2023-11-23T17:00:59.381148Z",
     "shell.execute_reply": "2023-11-23T17:00:59.380154Z"
    },
    "papermill": {
     "duration": 4.994226,
     "end_time": "2023-11-23T17:00:59.383239",
     "exception": false,
     "start_time": "2023-11-23T17:00:54.389013",
     "status": "completed"
    },
    "tags": []
   },
   "outputs": [
    {
     "data": {
      "text/plain": [
       "VGG16(\n",
       "  (block_1): VGGBlock(\n",
       "    (conv1): Conv2d(1, 64, kernel_size=(3, 3), stride=(1, 1), padding=(1, 1))\n",
       "    (bn1): BatchNorm2d(64, eps=1e-05, momentum=0.1, affine=True, track_running_stats=True)\n",
       "    (conv2): Conv2d(64, 64, kernel_size=(3, 3), stride=(1, 1), padding=(1, 1))\n",
       "    (bn2): BatchNorm2d(64, eps=1e-05, momentum=0.1, affine=True, track_running_stats=True)\n",
       "    (max_pooling): MaxPool2d(kernel_size=(2, 2), stride=(2, 2), padding=0, dilation=1, ceil_mode=False)\n",
       "  )\n",
       "  (block_2): VGGBlock(\n",
       "    (conv1): Conv2d(64, 128, kernel_size=(3, 3), stride=(1, 1), padding=(1, 1))\n",
       "    (bn1): BatchNorm2d(128, eps=1e-05, momentum=0.1, affine=True, track_running_stats=True)\n",
       "    (conv2): Conv2d(128, 128, kernel_size=(3, 3), stride=(1, 1), padding=(1, 1))\n",
       "    (bn2): BatchNorm2d(128, eps=1e-05, momentum=0.1, affine=True, track_running_stats=True)\n",
       "    (max_pooling): MaxPool2d(kernel_size=(2, 2), stride=(2, 2), padding=0, dilation=1, ceil_mode=False)\n",
       "  )\n",
       "  (block_3): VGGBlock(\n",
       "    (conv1): Conv2d(128, 256, kernel_size=(3, 3), stride=(1, 1), padding=(1, 1))\n",
       "    (bn1): BatchNorm2d(256, eps=1e-05, momentum=0.1, affine=True, track_running_stats=True)\n",
       "    (conv2): Conv2d(256, 256, kernel_size=(3, 3), stride=(1, 1), padding=(1, 1))\n",
       "    (bn2): BatchNorm2d(256, eps=1e-05, momentum=0.1, affine=True, track_running_stats=True)\n",
       "    (max_pooling): MaxPool2d(kernel_size=(2, 2), stride=(2, 2), padding=0, dilation=1, ceil_mode=False)\n",
       "  )\n",
       "  (block_4): VGGBlock(\n",
       "    (conv1): Conv2d(256, 512, kernel_size=(3, 3), stride=(1, 1), padding=(1, 1))\n",
       "    (bn1): BatchNorm2d(512, eps=1e-05, momentum=0.1, affine=True, track_running_stats=True)\n",
       "    (conv2): Conv2d(512, 512, kernel_size=(3, 3), stride=(1, 1), padding=(1, 1))\n",
       "    (bn2): BatchNorm2d(512, eps=1e-05, momentum=0.1, affine=True, track_running_stats=True)\n",
       "    (max_pooling): MaxPool2d(kernel_size=(2, 2), stride=(2, 2), padding=0, dilation=1, ceil_mode=False)\n",
       "  )\n",
       "  (classifier): Sequential(\n",
       "    (0): Linear(in_features=2048, out_features=4096, bias=True)\n",
       "    (1): ReLU(inplace=True)\n",
       "    (2): Dropout(p=0.65, inplace=False)\n",
       "    (3): Linear(in_features=4096, out_features=4096, bias=True)\n",
       "    (4): ReLU(inplace=True)\n",
       "    (5): Dropout(p=0.65, inplace=False)\n",
       "    (6): Linear(in_features=4096, out_features=10, bias=True)\n",
       "  )\n",
       ")"
      ]
     },
     "execution_count": 8,
     "metadata": {},
     "output_type": "execute_result"
    }
   ],
   "source": [
    "model = VGG16((1,32,32), batch_norm=True)\n",
    "model.to(device)"
   ]
  },
  {
   "cell_type": "markdown",
   "id": "92e5b918",
   "metadata": {
    "papermill": {
     "duration": 0.010551,
     "end_time": "2023-11-23T17:00:59.405412",
     "exception": false,
     "start_time": "2023-11-23T17:00:59.394861",
     "status": "completed"
    },
    "tags": []
   },
   "source": [
    "## 加载 MNIST 数据集"
   ]
  },
  {
   "cell_type": "code",
   "execution_count": 9,
   "id": "03a67425",
   "metadata": {
    "_kg_hide-output": true,
    "execution": {
     "iopub.execute_input": "2023-11-23T17:00:59.427827Z",
     "iopub.status.busy": "2023-11-23T17:00:59.427515Z",
     "iopub.status.idle": "2023-11-23T17:01:00.441985Z",
     "shell.execute_reply": "2023-11-23T17:01:00.440847Z"
    },
    "papermill": {
     "duration": 1.027719,
     "end_time": "2023-11-23T17:01:00.443932",
     "exception": false,
     "start_time": "2023-11-23T17:00:59.416213",
     "status": "completed"
    },
    "tags": []
   },
   "outputs": [],
   "source": [
    "transform=transforms.Compose([\n",
    "    transforms.Resize(32),\n",
    "    transforms.ToTensor(),\n",
    "])\n",
    "\n",
    "test_dataset = torchvision.datasets.MNIST(root='./data', train=False, download=True, transform=transform)\n",
    "test_loader = torch.utils.data.DataLoader(test_dataset, batch_size=64, shuffle=False)"
   ]
  },
  {
   "cell_type": "code",
   "execution_count": 10,
   "id": "3c003ce6",
   "metadata": {
    "execution": {
     "iopub.execute_input": "2023-11-23T17:01:00.470307Z",
     "iopub.status.busy": "2023-11-23T17:01:00.469541Z",
     "iopub.status.idle": "2023-11-23T17:01:02.046746Z",
     "shell.execute_reply": "2023-11-23T17:01:02.045811Z"
    },
    "papermill": {
     "duration": 1.59287,
     "end_time": "2023-11-23T17:01:02.048973",
     "exception": false,
     "start_time": "2023-11-23T17:01:00.456103",
     "status": "completed"
    },
    "tags": []
   },
   "outputs": [
    {
     "data": {
      "text/plain": [
       "<All keys matched successfully>"
      ]
     },
     "execution_count": 10,
     "metadata": {},
     "output_type": "execute_result"
    }
   ],
   "source": [
    "# 加载预先训练好的VGG-16模型权重\n",
    "model.load_state_dict(torch.load('./vgg16-models-mnist-fashion-mnist/vgg16_mnist_model.pth'))"
   ]
  },
  {
   "cell_type": "markdown",
   "id": "ecd0ce80",
   "metadata": {},
   "source": [
    "## 对抗性攻击"
   ]
  },
  {
   "cell_type": "code",
   "execution_count": 11,
   "id": "2afd5c74",
   "metadata": {
    "execution": {
     "iopub.execute_input": "2023-11-23T17:01:02.074920Z",
     "iopub.status.busy": "2023-11-23T17:01:02.074626Z",
     "iopub.status.idle": "2023-11-23T17:02:08.658402Z",
     "shell.execute_reply": "2023-11-23T17:02:08.657447Z"
    },
    "papermill": {
     "duration": 66.612792,
     "end_time": "2023-11-23T17:02:08.674311",
     "exception": false,
     "start_time": "2023-11-23T17:01:02.061519",
     "status": "completed"
    },
    "tags": []
   },
   "outputs": [
    {
     "name": "stdout",
     "output_type": "stream",
     "text": [
      "Epsilon: 0.0, Test Accuracy: 0.9901\n",
      "Epsilon: 0.1, Test Accuracy: 0.9099\n",
      "Epsilon: 0.2, Test Accuracy: 0.8237\n",
      "Epsilon: 0.3, Test Accuracy: 0.7274\n",
      "Epsilon: 0.4, Test Accuracy: 0.584\n",
      "Epsilon: 0.5, Test Accuracy: 0.4054\n",
      "Epsilon: 0.6, Test Accuracy: 0.2648\n",
      "Epsilon: 0.7, Test Accuracy: 0.161\n",
      "Epsilon: 1.0, Test Accuracy: 0.0531\n",
      "Epsilon: 1.5, Test Accuracy: 0.0523\n"
     ]
    }
   ],
   "source": [
    "# 对抗性攻击实验\n",
    "accs = []\n",
    "for eps in epsilons:\n",
    "    total = 0\n",
    "    correct = 0\n",
    "\n",
    "    for i, (imgs, labels) in enumerate(test_loader):\n",
    "        imgs = imgs.to(device)\n",
    "        labels = labels.to(device)\n",
    "        # print(labels.shape)\n",
    "        imgs = Variable(imgs, requires_grad=True)\n",
    "        labels = Variable(labels)\n",
    "\n",
    "        new_imgs, new_preds = fgsm_attack(model, imgs, labels, eps)\n",
    "        correct += (new_preds==labels).sum().item()\n",
    "        total += labels.size(0)\n",
    "\n",
    "    accs.append((correct / total))\n",
    "    print(\"Epsilon: {}, Test Accuracy: {}\".format(eps, correct / total))"
   ]
  },
  {
   "cell_type": "code",
   "execution_count": 12,
   "id": "3085774e",
   "metadata": {
    "execution": {
     "iopub.execute_input": "2023-11-23T17:02:08.704201Z",
     "iopub.status.busy": "2023-11-23T17:02:08.703845Z",
     "iopub.status.idle": "2023-11-23T17:02:09.014425Z",
     "shell.execute_reply": "2023-11-23T17:02:09.013502Z"
    },
    "papermill": {
     "duration": 0.328453,
     "end_time": "2023-11-23T17:02:09.016614",
     "exception": false,
     "start_time": "2023-11-23T17:02:08.688161",
     "status": "completed"
    },
    "tags": []
   },
   "outputs": [
    {
     "data": {
      "image/png": "[encoded data removed]",
      "text/plain": [
       "<Figure size 640x480 with 1 Axes>"
      ]
     },
     "metadata": {},
     "output_type": "display_data"
    }
   ],
   "source": [
    "# 绘制模型准确率与扰动系数的关系图\n",
    "fig, ax = plt.subplots(nrows=1, ncols=1)  # create figure & 1 axis\n",
    "ax.plot(epsilons, accs, \"*-\")\n",
    "ax.set_title(\"Accuracy vs Epsilon\")\n",
    "ax.set_xlabel(\"Epsilon\")\n",
    "ax.set_ylabel(\"Accuracy\")\n",
    "fig.show()"
   ]
  },
  {
   "cell_type": "code",
   "execution_count": 13,
   "id": "afae43bc",
   "metadata": {
    "execution": {
     "iopub.execute_input": "2023-11-23T17:02:09.073699Z",
     "iopub.status.busy": "2023-11-23T17:02:09.073404Z",
     "iopub.status.idle": "2023-11-23T17:02:09.078420Z",
     "shell.execute_reply": "2023-11-23T17:02:09.077565Z"
    },
    "papermill": {
     "duration": 0.02154,
     "end_time": "2023-11-23T17:02:09.080377",
     "exception": false,
     "start_time": "2023-11-23T17:02:09.058837",
     "status": "completed"
    },
    "tags": []
   },
   "outputs": [],
   "source": [
    "# 将PyTorch张量转换为NumPy数组，以便于图像显示\n",
    "def to_numpy_array(tensor):\n",
    "    tensor_ = tensor.cpu()\n",
    "    tensor_ = tensor_.squeeze(0)\n",
    "    tensor_ = tensor_.detach().numpy()\n",
    "    return tensor_"
   ]
  },
  {
   "cell_type": "code",
   "execution_count": 14,
   "id": "d63cb7a3",
   "metadata": {
    "_kg_hide-input": true,
    "execution": {
     "iopub.execute_input": "2023-11-23T17:02:09.109026Z",
     "iopub.status.busy": "2023-11-23T17:02:09.108535Z",
     "iopub.status.idle": "2023-11-23T17:02:11.916520Z",
     "shell.execute_reply": "2023-11-23T17:02:11.915371Z"
    },
    "papermill": {
     "duration": 2.824863,
     "end_time": "2023-11-23T17:02:11.919105",
     "exception": false,
     "start_time": "2023-11-23T17:02:09.094242",
     "status": "completed"
    },
    "tags": []
   },
   "outputs": [
    {
     "data": {
      "image/png": "[encoded data removed]",
      "text/plain": [
       "<Figure size 1500x700 with 20 Axes>"
      ]
     },
     "metadata": {},
     "output_type": "display_data"
    }
   ],
   "source": [
    "# 显示原始图像和受攻击后的图像，以及添加的扰动。\n",
    "for i, (imgs, labels) in enumerate(test_loader):\n",
    "    imgs, labels = imgs.to(device), labels.to(device)\n",
    "    imgs, labels = Variable(imgs, requires_grad=True), Variable(labels)\n",
    "\n",
    "    f = plt.figure(figsize=(15, 7))\n",
    "    gs = f.add_gridspec(2, len(epsilons))\n",
    "    gs.update(wspace=0.025, hspace=-0.6) \n",
    "\n",
    "    # plot the perturbed image\n",
    "    for e in range(len(epsilons)):\n",
    "        eps = epsilons[e]\n",
    "        ax1 = f.add_subplot(gs[0, e])\n",
    "        imgs, labels = imgs.to(device), labels.to(device)\n",
    "        imgs, labels = Variable(imgs, requires_grad=True), Variable(labels)\n",
    "\n",
    "        adv_imgs, _ = fgsm_attack(model, imgs, labels, eps)\n",
    "\n",
    "        img, adv_img = imgs[50], adv_imgs[50]\n",
    "        img, adv_img = to_numpy_array(img), to_numpy_array(adv_img)\n",
    "\n",
    "        ax1.imshow(adv_img)\n",
    "        ax1.set_xlabel(f\"$\\epsilon$: {eps}\")\n",
    "        ax1.set_xticklabels([])\n",
    "        ax1.set_yticklabels([])\n",
    "\n",
    "    for i in range(len(epsilons)):\n",
    "        eps = epsilons[i]\n",
    "        ax2 = f.add_subplot(gs[1, i])\n",
    "        imgs, labels = imgs.to(device), labels.to(device)\n",
    "        imgs, labels = Variable(imgs, requires_grad=True), Variable(labels)\n",
    "\n",
    "        adv_imgs, _ = fgsm_attack(model, imgs, labels, eps)\n",
    "\n",
    "        img, adv_img = imgs[50], adv_imgs[50]\n",
    "        img, adv_img = to_numpy_array(img), to_numpy_array(adv_img)\n",
    "        noise = adv_img - img\n",
    "\n",
    "        ax2.imshow(noise)\n",
    "        ax2.set_xticklabels([])\n",
    "        ax2.set_yticklabels([])\n",
    "\n",
    "    f.show()\n",
    "    break "
   ]
  }
 ],
 "metadata": {
  "kaggle": {
   "accelerator": "nvidiaTeslaT4",
   "dataSources": [
    {
     "datasetId": 4045993,
     "sourceId": 7034490,
     "sourceType": "datasetVersion"
    }
   ],
   "dockerImageVersionId": 30588,
   "isGpuEnabled": true,
   "isInternetEnabled": true,
   "language": "python",
   "sourceType": "notebook"
  },
  "kernelspec": {
   "display_name": "Python [conda env:.conda-fakefool]",
   "language": "python",
   "name": "conda-env-.conda-fakefool-py"
  },
  "language_info": {
   "codemirror_mode": {
    "name": "ipython",
    "version": 3
   },
   "file_extension": ".py",
   "mimetype": "text/x-python",
   "name": "python",
   "nbconvert_exporter": "python",
   "pygments_lexer": "ipython3",
   "version": "3.8.19"
  },
  "papermill": {
   "default_parameters": {},
   "duration": 160.583608,
   "end_time": "2023-11-23T17:03:22.009461",
   "environment_variables": {},
   "exception": null,
   "input_path": "__notebook__.ipynb",
   "output_path": "__notebook__.ipynb",
   "parameters": {},
   "start_time": "2023-11-23T17:00:41.425853",
   "version": "2.4.0"
  }
 },
 "nbformat": 4,
 "nbformat_minor": 5
}
