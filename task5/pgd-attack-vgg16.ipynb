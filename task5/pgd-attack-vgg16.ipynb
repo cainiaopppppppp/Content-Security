{
 "cells": [
  {
   "cell_type": "code",
   "execution_count": 1,
   "id": "87e9ed04",
   "metadata": {
    "_cell_guid": "b1076dfc-b9ad-4769-8c92-a6c4dae69d19",
    "_uuid": "8f2839f25d086af736a60e9eeb907d3b93b6e0e5",
    "execution": {
     "iopub.execute_input": "2023-11-24T08:59:27.299914Z",
     "iopub.status.busy": "2023-11-24T08:59:27.299522Z",
     "iopub.status.idle": "2023-11-24T08:59:28.406175Z",
     "shell.execute_reply": "2023-11-24T08:59:28.405257Z"
    },
    "papermill": {
     "duration": 1.122871,
     "end_time": "2023-11-24T08:59:28.408406",
     "exception": false,
     "start_time": "2023-11-24T08:59:27.285535",
     "status": "completed"
    },
    "scrolled": true,
    "tags": []
   },
   "outputs": [
    {
     "name": "stdout",
     "output_type": "stream",
     "text": [
      "./data\\MNIST\\raw\\t10k-images-idx3-ubyte\n",
      "./data\\MNIST\\raw\\t10k-images-idx3-ubyte.gz\n",
      "./data\\MNIST\\raw\\t10k-labels-idx1-ubyte\n",
      "./data\\MNIST\\raw\\t10k-labels-idx1-ubyte.gz\n",
      "./data\\MNIST\\raw\\train-images-idx3-ubyte\n",
      "./data\\MNIST\\raw\\train-images-idx3-ubyte.gz\n",
      "./data\\MNIST\\raw\\train-labels-idx1-ubyte\n",
      "./data\\MNIST\\raw\\train-labels-idx1-ubyte.gz\n"
     ]
    }
   ],
   "source": [
    "import numpy as np\n",
    "import pandas as pd\n",
    "import os\n",
    "\n",
    "for dirname, _, filenames in os.walk('./data'):\n",
    "    for filename in filenames:\n",
    "        print(os.path.join(dirname, filename))"
   ]
  },
  {
   "cell_type": "code",
   "execution_count": 2,
   "id": "5dd41bdf",
   "metadata": {
    "execution": {
     "iopub.execute_input": "2023-11-24T08:59:28.433920Z",
     "iopub.status.busy": "2023-11-24T08:59:28.433518Z",
     "iopub.status.idle": "2023-11-24T08:59:34.637517Z",
     "shell.execute_reply": "2023-11-24T08:59:34.636733Z"
    },
    "papermill": {
     "duration": 6.21919,
     "end_time": "2023-11-24T08:59:34.639875",
     "exception": false,
     "start_time": "2023-11-24T08:59:28.420685",
     "status": "completed"
    },
    "tags": []
   },
   "outputs": [],
   "source": [
    "from PIL import Image\n",
    "import matplotlib.pyplot as plt\n",
    "\n",
    "import torch\n",
    "import torch.nn as nn\n",
    "import torch.nn.functional as F\n",
    "from torch.autograd import Variable\n",
    "import torchvision\n",
    "import torchvision.transforms as transforms\n",
    "from torchvision import models"
   ]
  },
  {
   "cell_type": "markdown",
   "id": "9df3b2d0",
   "metadata": {
    "papermill": {
     "duration": 0.011679,
     "end_time": "2023-11-24T08:59:34.663687",
     "exception": false,
     "start_time": "2023-11-24T08:59:34.652008",
     "status": "completed"
    },
    "tags": []
   },
   "source": [
    "### 使用 GPU"
   ]
  },
  {
   "cell_type": "code",
   "execution_count": 3,
   "id": "9d1f7c4b",
   "metadata": {
    "execution": {
     "iopub.execute_input": "2023-11-24T08:59:34.689326Z",
     "iopub.status.busy": "2023-11-24T08:59:34.688466Z",
     "iopub.status.idle": "2023-11-24T08:59:34.790441Z",
     "shell.execute_reply": "2023-11-24T08:59:34.789535Z"
    },
    "papermill": {
     "duration": 0.11682,
     "end_time": "2023-11-24T08:59:34.792556",
     "exception": false,
     "start_time": "2023-11-24T08:59:34.675736",
     "status": "completed"
    },
    "tags": []
   },
   "outputs": [
    {
     "name": "stdout",
     "output_type": "stream",
     "text": [
      "cuda\n"
     ]
    }
   ],
   "source": [
    "device = torch.device(\"cuda\" if torch.cuda.is_available() else \"cpu\")\n",
    "print(device)"
   ]
  },
  {
   "attachments": {},
   "cell_type": "markdown",
   "id": "d28eef34",
   "metadata": {
    "papermill": {
     "duration": 0.011378,
     "end_time": "2023-11-24T08:59:34.815852",
     "exception": false,
     "start_time": "2023-11-24T08:59:34.804474",
     "status": "completed"
    },
    "tags": []
   },
   "source": [
    "## PGD 攻击"
   ]
  },
  {
   "cell_type": "code",
   "execution_count": 4,
   "id": "a9efa128",
   "metadata": {
    "execution": {
     "iopub.execute_input": "2023-11-24T08:59:34.840514Z",
     "iopub.status.busy": "2023-11-24T08:59:34.840202Z",
     "iopub.status.idle": "2023-11-24T08:59:34.847374Z",
     "shell.execute_reply": "2023-11-24T08:59:34.846529Z"
    },
    "papermill": {
     "duration": 0.021885,
     "end_time": "2023-11-24T08:59:34.849399",
     "exception": false,
     "start_time": "2023-11-24T08:59:34.827514",
     "status": "completed"
    },
    "tags": []
   },
   "outputs": [],
   "source": [
    "# PGD攻击\n",
    "# 每次迭代都在输入数据上添加一个小扰动，该扰动的方向能增加模型的损失，目的是使模型预测出错\n",
    "def pgd_linf(model, imgs, labels, epsilon, alpha, num_iter, flag=0):\n",
    "    delta = torch.zeros_like(imgs, requires_grad=True)\n",
    "    if flag == 1:\n",
    "        num_iter = 1\n",
    "    for t in range(num_iter):\n",
    "        loss = nn.CrossEntropyLoss()(model(imgs + delta), labels)\n",
    "        loss.backward()\n",
    "        delta.data = (delta + alpha * delta.grad.detach().sign()).clamp(-epsilon, epsilon)\n",
    "        delta.grad.zero_()\n",
    "        new_preds = model(imgs + delta).argmax(axis=1)\n",
    "    return (imgs + delta).detach(), new_preds"
   ]
  },
  {
   "cell_type": "code",
   "execution_count": 5,
   "id": "c17ae0ae",
   "metadata": {
    "execution": {
     "iopub.execute_input": "2023-11-24T08:59:34.873785Z",
     "iopub.status.busy": "2023-11-24T08:59:34.873487Z",
     "iopub.status.idle": "2023-11-24T08:59:34.877530Z",
     "shell.execute_reply": "2023-11-24T08:59:34.876699Z"
    },
    "papermill": {
     "duration": 0.018171,
     "end_time": "2023-11-24T08:59:34.879315",
     "exception": false,
     "start_time": "2023-11-24T08:59:34.861144",
     "status": "completed"
    },
    "tags": []
   },
   "outputs": [],
   "source": [
    "# 扰动系数\n",
    "epsilons = [0.00, 0.05, 0.10, 0.15, 0.20, 0.30]"
   ]
  },
  {
   "cell_type": "markdown",
   "id": "b7a1bafe",
   "metadata": {
    "papermill": {
     "duration": 0.012966,
     "end_time": "2023-11-24T08:59:34.903965",
     "exception": false,
     "start_time": "2023-11-24T08:59:34.890999",
     "status": "completed"
    },
    "tags": []
   },
   "source": [
    "## VGG-16 (预训练模型)"
   ]
  },
  {
   "cell_type": "code",
   "execution_count": 6,
   "id": "9bdb5d54",
   "metadata": {
    "_kg_hide-input": true,
    "execution": {
     "iopub.execute_input": "2023-11-24T08:59:34.928447Z",
     "iopub.status.busy": "2023-11-24T08:59:34.928154Z",
     "iopub.status.idle": "2023-11-24T08:59:34.942299Z",
     "shell.execute_reply": "2023-11-24T08:59:34.941483Z"
    },
    "papermill": {
     "duration": 0.028905,
     "end_time": "2023-11-24T08:59:34.944432",
     "exception": false,
     "start_time": "2023-11-24T08:59:34.915527",
     "status": "completed"
    },
    "tags": []
   },
   "outputs": [],
   "source": [
    "class VGGBlock(nn.Module):\n",
    "    def __init__(self, in_channels, out_channels, batch_norm=False):\n",
    "        super().__init__()\n",
    "        conv2_params = {'kernel_size': (3, 3),\n",
    "                        'stride'     : (1, 1),\n",
    "                        'padding'   : 1}\n",
    "\n",
    "        noop = lambda x : x\n",
    "        self._batch_norm = batch_norm\n",
    "\n",
    "        self.conv1 = nn.Conv2d(in_channels=in_channels, out_channels=out_channels , **conv2_params)\n",
    "        self.bn1 = nn.BatchNorm2d(out_channels) if batch_norm else noop\n",
    "\n",
    "        self.conv2 = nn.Conv2d(in_channels=out_channels, out_channels=out_channels, **conv2_params)\n",
    "        self.bn2 = nn.BatchNorm2d(out_channels) if batch_norm else noop\n",
    "\n",
    "        self.max_pooling = nn.MaxPool2d(kernel_size=(2, 2), stride=(2, 2))\n",
    "\n",
    "    @property\n",
    "    def batch_norm(self):\n",
    "        return self._batch_norm\n",
    "\n",
    "    def forward(self,x):\n",
    "        x = self.conv1(x)\n",
    "        x = self.bn1(x)\n",
    "        x = F.relu(x)\n",
    "\n",
    "        x = self.conv2(x)\n",
    "        x = self.bn2(x)\n",
    "        x = F.relu(x)\n",
    "\n",
    "        x = self.max_pooling(x)\n",
    "\n",
    "        return x\n",
    "    \n",
    "\n",
    "class VGG16(nn.Module):\n",
    "    def __init__(self, input_size, num_classes=10, batch_norm=False):\n",
    "        super(VGG16, self).__init__()\n",
    "\n",
    "        self.in_channels, self.in_width, self.in_height = input_size\n",
    "\n",
    "        self.block_1 = VGGBlock(self.in_channels, 64, batch_norm=batch_norm)\n",
    "        self.block_2 = VGGBlock(64, 128, batch_norm=batch_norm)\n",
    "        self.block_3 = VGGBlock(128, 256, batch_norm=batch_norm)\n",
    "        self.block_4 = VGGBlock(256,512, batch_norm=batch_norm)\n",
    "\n",
    "        self.classifier = nn.Sequential(\n",
    "                nn.Linear(2048, 4096),\n",
    "                nn.ReLU(True),\n",
    "                nn.Dropout(p=0.65),\n",
    "                nn.Linear(4096, 4096),\n",
    "                nn.ReLU(True),\n",
    "                nn.Dropout(p=0.65),\n",
    "                nn.Linear(4096, num_classes) \n",
    "            )\n",
    "\n",
    "    @property\n",
    "    def input_size(self):\n",
    "          return self.in_channels, self.in_width, self.in_height\n",
    "\n",
    "    def forward(self, x):\n",
    "        x = self.block_1(x)\n",
    "        x = self.block_2(x)\n",
    "        x = self.block_3(x)\n",
    "        x = self.block_4(x)\n",
    "        x = x.view(x.size(0), -1)\n",
    "        x = self.classifier(x)\n",
    "\n",
    "        return x"
   ]
  },
  {
   "cell_type": "code",
   "execution_count": 7,
   "id": "d4a550aa",
   "metadata": {
    "execution": {
     "iopub.execute_input": "2023-11-24T08:59:34.970000Z",
     "iopub.status.busy": "2023-11-24T08:59:34.969528Z",
     "iopub.status.idle": "2023-11-24T08:59:39.606244Z",
     "shell.execute_reply": "2023-11-24T08:59:39.605312Z"
    },
    "papermill": {
     "duration": 4.652278,
     "end_time": "2023-11-24T08:59:39.608770",
     "exception": false,
     "start_time": "2023-11-24T08:59:34.956492",
     "status": "completed"
    },
    "tags": []
   },
   "outputs": [
    {
     "data": {
      "text/plain": [
       "VGG16(\n",
       "  (block_1): VGGBlock(\n",
       "    (conv1): Conv2d(1, 64, kernel_size=(3, 3), stride=(1, 1), padding=(1, 1))\n",
       "    (bn1): BatchNorm2d(64, eps=1e-05, momentum=0.1, affine=True, track_running_stats=True)\n",
       "    (conv2): Conv2d(64, 64, kernel_size=(3, 3), stride=(1, 1), padding=(1, 1))\n",
       "    (bn2): BatchNorm2d(64, eps=1e-05, momentum=0.1, affine=True, track_running_stats=True)\n",
       "    (max_pooling): MaxPool2d(kernel_size=(2, 2), stride=(2, 2), padding=0, dilation=1, ceil_mode=False)\n",
       "  )\n",
       "  (block_2): VGGBlock(\n",
       "    (conv1): Conv2d(64, 128, kernel_size=(3, 3), stride=(1, 1), padding=(1, 1))\n",
       "    (bn1): BatchNorm2d(128, eps=1e-05, momentum=0.1, affine=True, track_running_stats=True)\n",
       "    (conv2): Conv2d(128, 128, kernel_size=(3, 3), stride=(1, 1), padding=(1, 1))\n",
       "    (bn2): BatchNorm2d(128, eps=1e-05, momentum=0.1, affine=True, track_running_stats=True)\n",
       "    (max_pooling): MaxPool2d(kernel_size=(2, 2), stride=(2, 2), padding=0, dilation=1, ceil_mode=False)\n",
       "  )\n",
       "  (block_3): VGGBlock(\n",
       "    (conv1): Conv2d(128, 256, kernel_size=(3, 3), stride=(1, 1), padding=(1, 1))\n",
       "    (bn1): BatchNorm2d(256, eps=1e-05, momentum=0.1, affine=True, track_running_stats=True)\n",
       "    (conv2): Conv2d(256, 256, kernel_size=(3, 3), stride=(1, 1), padding=(1, 1))\n",
       "    (bn2): BatchNorm2d(256, eps=1e-05, momentum=0.1, affine=True, track_running_stats=True)\n",
       "    (max_pooling): MaxPool2d(kernel_size=(2, 2), stride=(2, 2), padding=0, dilation=1, ceil_mode=False)\n",
       "  )\n",
       "  (block_4): VGGBlock(\n",
       "    (conv1): Conv2d(256, 512, kernel_size=(3, 3), stride=(1, 1), padding=(1, 1))\n",
       "    (bn1): BatchNorm2d(512, eps=1e-05, momentum=0.1, affine=True, track_running_stats=True)\n",
       "    (conv2): Conv2d(512, 512, kernel_size=(3, 3), stride=(1, 1), padding=(1, 1))\n",
       "    (bn2): BatchNorm2d(512, eps=1e-05, momentum=0.1, affine=True, track_running_stats=True)\n",
       "    (max_pooling): MaxPool2d(kernel_size=(2, 2), stride=(2, 2), padding=0, dilation=1, ceil_mode=False)\n",
       "  )\n",
       "  (classifier): Sequential(\n",
       "    (0): Linear(in_features=2048, out_features=4096, bias=True)\n",
       "    (1): ReLU(inplace=True)\n",
       "    (2): Dropout(p=0.65, inplace=False)\n",
       "    (3): Linear(in_features=4096, out_features=4096, bias=True)\n",
       "    (4): ReLU(inplace=True)\n",
       "    (5): Dropout(p=0.65, inplace=False)\n",
       "    (6): Linear(in_features=4096, out_features=10, bias=True)\n",
       "  )\n",
       ")"
      ]
     },
     "execution_count": 7,
     "metadata": {},
     "output_type": "execute_result"
    }
   ],
   "source": [
    "model = VGG16((1,32,32), batch_norm=True)\n",
    "model.to(device)"
   ]
  },
  {
   "cell_type": "markdown",
   "id": "1165f1b9",
   "metadata": {
    "papermill": {
     "duration": 0.012123,
     "end_time": "2023-11-24T08:59:39.637774",
     "exception": false,
     "start_time": "2023-11-24T08:59:39.625651",
     "status": "completed"
    },
    "tags": []
   },
   "source": [
    "## 加载 MNIST 数据集"
   ]
  },
  {
   "cell_type": "code",
   "execution_count": 8,
   "id": "929685d8",
   "metadata": {
    "_kg_hide-output": true,
    "execution": {
     "iopub.execute_input": "2023-11-24T08:59:39.667339Z",
     "iopub.status.busy": "2023-11-24T08:59:39.666341Z",
     "iopub.status.idle": "2023-11-24T08:59:40.647159Z",
     "shell.execute_reply": "2023-11-24T08:59:40.646150Z"
    },
    "papermill": {
     "duration": 0.999237,
     "end_time": "2023-11-24T08:59:40.649299",
     "exception": false,
     "start_time": "2023-11-24T08:59:39.650062",
     "status": "completed"
    },
    "tags": []
   },
   "outputs": [],
   "source": [
    "transform=transforms.Compose([\n",
    "    transforms.Resize(32),\n",
    "    transforms.ToTensor(),\n",
    "])\n",
    "\n",
    "train_dataset = torchvision.datasets.MNIST(root='./data', train=True, download=True, transform=transform)\n",
    "train_loader = torch.utils.data.DataLoader(train_dataset, batch_size=64, shuffle=False)"
   ]
  },
  {
   "cell_type": "code",
   "execution_count": 10,
   "id": "b51d97dc",
   "metadata": {
    "execution": {
     "iopub.execute_input": "2023-11-24T08:59:40.678062Z",
     "iopub.status.busy": "2023-11-24T08:59:40.677758Z",
     "iopub.status.idle": "2023-11-24T08:59:41.880741Z",
     "shell.execute_reply": "2023-11-24T08:59:41.879797Z"
    },
    "papermill": {
     "duration": 1.219631,
     "end_time": "2023-11-24T08:59:41.882704",
     "exception": false,
     "start_time": "2023-11-24T08:59:40.663073",
     "status": "completed"
    },
    "tags": []
   },
   "outputs": [
    {
     "data": {
      "text/plain": [
       "<All keys matched successfully>"
      ]
     },
     "execution_count": 10,
     "metadata": {},
     "output_type": "execute_result"
    }
   ],
   "source": [
    "# 加载预训练的模型权重\n",
    "model.load_state_dict(torch.load('./vgg16_mnist_model.pth'))"
   ]
  },
  {
   "cell_type": "markdown",
   "id": "1ec9f6df",
   "metadata": {},
   "source": [
    "## PGD攻击执行"
   ]
  },
  {
   "cell_type": "code",
   "execution_count": 11,
   "id": "4bb407a9",
   "metadata": {
    "execution": {
     "iopub.execute_input": "2023-11-24T08:59:41.911602Z",
     "iopub.status.busy": "2023-11-24T08:59:41.911301Z",
     "iopub.status.idle": "2023-11-24T10:30:15.228448Z",
     "shell.execute_reply": "2023-11-24T10:30:15.227498Z"
    },
    "papermill": {
     "duration": 5433.348269,
     "end_time": "2023-11-24T10:30:15.244853",
     "exception": false,
     "start_time": "2023-11-24T08:59:41.896584",
     "status": "completed"
    },
    "tags": []
   },
   "outputs": [
    {
     "name": "stdout",
     "output_type": "stream",
     "text": [
      "Epsilon: 0.0, Test Accuracy: 0.9928\n",
      "Epsilon: 0.05, Test Accuracy: 0.6139\n",
      "Epsilon: 0.1, Test Accuracy: 0.1720\n",
      "Epsilon: 0.15, Test Accuracy: 0.0412\n",
      "Epsilon: 0.2, Test Accuracy: 0.0186\n",
      "Epsilon: 0.3, Test Accuracy: 0.0123\n"
     ]
    }
   ],
   "source": [
    "# PGD攻击实验\n",
    "accs = []\n",
    "for eps in epsilons:\n",
    "    flag = 0\n",
    "    if eps == 0:\n",
    "        flag = 1\n",
    "    correct, total = 0, 0\n",
    "    for i, (imgs, labels) in enumerate(train_loader):\n",
    "        imgs, labels = imgs.to(device), labels.to(device)\n",
    "        imgs, labels = Variable(imgs, requires_grad=True), Variable(labels)\n",
    "\n",
    "        _, y_preds = pgd_linf(model, imgs, labels, eps, alpha=1e-2, num_iter=40, flag=flag)\n",
    "        \n",
    "        correct += (y_preds==labels).sum().item()\n",
    "        total += labels.size(0)\n",
    "\n",
    "    print(\"Epsilon: {}, Test Accuracy: {:.4f}\".format(eps, correct / total))\n",
    "    accs.append((correct / total))"
   ]
  },
  {
   "cell_type": "code",
   "execution_count": 17,
   "id": "cea94218",
   "metadata": {
    "execution": {
     "iopub.execute_input": "2023-11-24T10:30:15.275260Z",
     "iopub.status.busy": "2023-11-24T10:30:15.274431Z",
     "iopub.status.idle": "2023-11-24T10:30:15.645391Z",
     "shell.execute_reply": "2023-11-24T10:30:15.644366Z"
    },
    "papermill": {
     "duration": 0.388561,
     "end_time": "2023-11-24T10:30:15.647404",
     "exception": false,
     "start_time": "2023-11-24T10:30:15.258843",
     "status": "completed"
    },
    "tags": []
   },
   "outputs": [
    {
     "name": "stderr",
     "output_type": "stream",
     "text": [
      "C:\\Users\\35083\\AppData\\Local\\Temp\\ipykernel_16564\\1117793875.py:6: UserWarning: Matplotlib is currently using module://matplotlib_inline.backend_inline, which is a non-GUI backend, so cannot show the figure.\n",
      "  fig.show()\n"
     ]
    },
    {
     "data": {
      "image/png": "[encoded data removed]",
      "text/plain": [
       "<Figure size 640x480 with 1 Axes>"
      ]
     },
     "metadata": {},
     "output_type": "display_data"
    }
   ],
   "source": [
    "# 绘制扰动系数与模型准确率之间的关系图\n",
    "fig, ax = plt.subplots(nrows=1, ncols=1)\n",
    "ax.plot(epsilons, accs, \"*-\")\n",
    "ax.set_title(\"Accuracy vs Epsilon\")\n",
    "ax.set_xlabel(\"Epsilon\")\n",
    "ax.set_ylabel(\"Accuracy\")\n",
    "fig.show()"
   ]
  },
  {
   "cell_type": "code",
   "execution_count": 18,
   "id": "c142a375",
   "metadata": {
    "_kg_hide-input": true,
    "execution": {
     "iopub.execute_input": "2023-11-24T10:30:15.677908Z",
     "iopub.status.busy": "2023-11-24T10:30:15.677589Z",
     "iopub.status.idle": "2023-11-24T10:30:15.682789Z",
     "shell.execute_reply": "2023-11-24T10:30:15.681928Z"
    },
    "papermill": {
     "duration": 0.022748,
     "end_time": "2023-11-24T10:30:15.684886",
     "exception": false,
     "start_time": "2023-11-24T10:30:15.662138",
     "status": "completed"
    },
    "tags": []
   },
   "outputs": [],
   "source": [
    "def to_numpy_array(tensor):\n",
    "    tensor_ = tensor.cpu()\n",
    "    tensor_ = tensor_.squeeze(0)\n",
    "    tensor_ = tensor_.detach().numpy()\n",
    "    return tensor_"
   ]
  },
  {
   "cell_type": "code",
   "execution_count": 19,
   "id": "de2df060",
   "metadata": {
    "_kg_hide-input": true,
    "execution": {
     "iopub.execute_input": "2023-11-24T10:30:15.715617Z",
     "iopub.status.busy": "2023-11-24T10:30:15.714949Z",
     "iopub.status.idle": "2023-11-24T10:30:24.070380Z",
     "shell.execute_reply": "2023-11-24T10:30:24.069402Z"
    },
    "papermill": {
     "duration": 8.373628,
     "end_time": "2023-11-24T10:30:24.072919",
     "exception": false,
     "start_time": "2023-11-24T10:30:15.699291",
     "status": "completed"
    },
    "tags": []
   },
   "outputs": [
    {
     "name": "stderr",
     "output_type": "stream",
     "text": [
      "C:\\Users\\35083\\AppData\\Local\\Temp\\ipykernel_16564\\1259978854.py:31: UserWarning: Matplotlib is currently using module://matplotlib_inline.backend_inline, which is a non-GUI backend, so cannot show the figure.\n",
      "  f.show()\n"
     ]
    },
    {
     "data": {
      "image/png": "[encoded data removed]",
      "text/plain": [
       "<Figure size 800x400 with 12 Axes>"
      ]
     },
     "metadata": {},
     "output_type": "display_data"
    }
   ],
   "source": [
    "# 对比原始图像和攻击后的图像\n",
    "for _, (imgs, labels) in enumerate(train_loader):\n",
    "    imgs, labels = imgs.to(device), labels.to(device)\n",
    "    imgs, labels = Variable(imgs, requires_grad=True), Variable(labels)\n",
    "\n",
    "    f = plt.figure(figsize=(8, 4))\n",
    "    gs = f.add_gridspec(2, len(epsilons))\n",
    "    gs.update(wspace=0.025, hspace=-0.25) \n",
    "\n",
    "    for i in range(len(epsilons)):\n",
    "        eps = epsilons[i]\n",
    "        ax1 = f.add_subplot(gs[0, i])\n",
    "        ax2 = f.add_subplot(gs[1, i])\n",
    "        imgs, labels = imgs.to(device), labels.to(device)\n",
    "        imgs, labels = Variable(imgs, requires_grad=True), Variable(labels)\n",
    "\n",
    "        adv_imgs, _ = pgd_linf(model, imgs, labels, epsilon=eps, alpha=1e-2, num_iter=40)\n",
    "        \n",
    "        img, adv_img = imgs[0], adv_imgs[0]\n",
    "        img, adv_img = to_numpy_array(img), to_numpy_array(adv_img)\n",
    "        noise = adv_img - img\n",
    "\n",
    "        ax1.imshow(adv_img)\n",
    "        ax1.set_xlabel(f\"$\\epsilon$: {eps}\")\n",
    "        ax1.set_xticklabels([])\n",
    "        ax1.set_yticklabels([])\n",
    "\n",
    "        ax2.imshow(noise)\n",
    "        ax2.set_xticklabels([])\n",
    "        ax2.set_yticklabels([])\n",
    "\n",
    "    f.show()\n",
    "    break"
   ]
  }
 ],
 "metadata": {
  "kaggle": {
   "accelerator": "nvidiaTeslaT4",
   "dataSources": [
    {
     "datasetId": 4045993,
     "sourceId": 7034490,
     "sourceType": "datasetVersion"
    }
   ],
   "dockerImageVersionId": 30588,
   "isGpuEnabled": true,
   "isInternetEnabled": true,
   "language": "python",
   "sourceType": "notebook"
  },
  "kernelspec": {
   "display_name": "Python [conda env:.conda-fakefool]",
   "language": "python",
   "name": "conda-env-.conda-fakefool-py"
  },
  "language_info": {
   "codemirror_mode": {
    "name": "ipython",
    "version": 3
   },
   "file_extension": ".py",
   "mimetype": "text/x-python",
   "name": "python",
   "nbconvert_exporter": "python",
   "pygments_lexer": "ipython3",
   "version": "3.8.19"
  },
  "papermill": {
   "default_parameters": {},
   "duration": 6481.972787,
   "end_time": "2023-11-24T10:47:24.817610",
   "environment_variables": {},
   "exception": null,
   "input_path": "__notebook__.ipynb",
   "output_path": "__notebook__.ipynb",
   "parameters": {},
   "start_time": "2023-11-24T08:59:22.844823",
   "version": "2.4.0"
  }
 },
 "nbformat": 4,
 "nbformat_minor": 5
}
