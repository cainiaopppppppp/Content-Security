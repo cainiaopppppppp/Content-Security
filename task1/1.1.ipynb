{
 "cells": [
  {
   "cell_type": "code",
   "execution_count": 1,
   "id": "3ffb789d",
   "metadata": {},
   "outputs": [
    {
     "name": "stdout",
     "output_type": "stream",
     "text": [
      "SVM training completed and model saved.\n"
     ]
    }
   ],
   "source": [
    "import cv2\n",
    "import numpy as np\n",
    "import os\n",
    "\n",
    "# 定义样本图片目录和样本数量\n",
    "pos_img_dir = \"D:/Content_Secu/INRIAPerson/INRIAPerson/Train/pos\"  # 正样本图片目录\n",
    "neg_img_dir = \"D:/Content_Secu/INRIAPerson/INRIAPerson/Train/neg\"  # 负样本图片目录\n",
    "pos_samples = 2400  # 指定正样本数量\n",
    "neg_samples = 12000  # 指定负样本数量\n",
    "central_crop = True  # 是否对正样本进行中心裁剪\n",
    "\n",
    "model_path = \"svm_hog.xml\"  # 模型保存路径\n",
    "\n",
    "# 创建HOG描述符\n",
    "hog = cv2.HOGDescriptor()\n",
    "\n",
    "def compute_hog_features(img_dir, num_samples, img_size=(64, 128), central_crop=False):\n",
    "    features = []\n",
    "    labels = []\n",
    "    for img_name in sorted(os.listdir(img_dir))[:num_samples]:\n",
    "        img_path = os.path.join(img_dir, img_name)\n",
    "        img = cv2.imread(img_path)\n",
    "        if img is None:\n",
    "            continue  # 如果图像未正确加载，则跳过\n",
    "        if central_crop:\n",
    "            img = img[16:-16, 16:-16]  # 假设原图是96x160，裁剪至64x128\n",
    "        img = cv2.resize(img, img_size)  # 确保图像是一致的尺寸\n",
    "        descriptor = hog.compute(img)\n",
    "        if descriptor is not None:\n",
    "            descriptor = descriptor.reshape(-1)\n",
    "            features.append(descriptor)\n",
    "            label = 1 if img_dir == pos_img_dir else -1\n",
    "            labels.append(label)\n",
    "    return np.array(features), np.array(labels)\n",
    "\n",
    "# 计算正样本和负样本的HOG特征\n",
    "pos_features, pos_labels = compute_hog_features(pos_img_dir, pos_samples, central_crop=central_crop)\n",
    "neg_features, neg_labels = compute_hog_features(neg_img_dir, neg_samples, central_crop=False)\n",
    "\n",
    "# 合并特征和标签\n",
    "features = np.vstack((pos_features, neg_features))\n",
    "labels = np.hstack((pos_labels, neg_labels))\n",
    "\n",
    "# 训练SVM分类器\n",
    "svm = cv2.ml.SVM_create()\n",
    "svm.setType(cv2.ml.SVM_C_SVC)\n",
    "svm.setKernel(cv2.ml.SVM_LINEAR)\n",
    "svm.setC(0.01)\n",
    "svm.train(features, cv2.ml.ROW_SAMPLE, labels)\n",
    "svm.save(model_path)\n",
    "print(\"SVM training completed and model saved.\")\n"
   ]
  },
  {
   "cell_type": "code",
   "execution_count": 2,
   "id": "8dcd3807",
   "metadata": {},
   "outputs": [],
   "source": [
    "import cv2\n",
    "import numpy as np\n",
    "\n",
    "def get_svm_detector(svm):\n",
    "    sv = svm.getSupportVectors()\n",
    "    rho, _, _ = svm.getDecisionFunction(0)\n",
    "    sv = np.transpose(sv)\n",
    "    return np.append(sv, [[-rho]], 0)\n",
    "\n",
    "# 加载训练好的SVM模型\n",
    "model_path = \"svm_hog.xml\"\n",
    "svm = cv2.ml.SVM_load(model_path)\n",
    "\n",
    "# 创建HOG描述符\n",
    "win_size = (64, 128)\n",
    "block_size = (16, 16)\n",
    "block_stride = (8, 8)\n",
    "cell_size = (8, 8)\n",
    "n_bins = 9\n",
    "hog = cv2.HOGDescriptor(win_size, block_size, block_stride, cell_size, n_bins)\n",
    "\n",
    "# 设置HOG描述符的检测器为训练好的SVM模型\n",
    "hog.setSVMDetector(get_svm_detector(svm))\n",
    "\n",
    "# 读取测试图片\n",
    "test_img_path = \"D:/Content_Secu/INRIAPerson/INRIAPerson/Test/pos/person_204.png\"\n",
    "img = cv2.imread(test_img_path)\n",
    "\n",
    "# 在测试图片上进行行人检测\n",
    "(rects, _) = hog.detectMultiScale(img, winStride=(8, 8), padding=(16, 16), scale=1.05)\n",
    "\n",
    "# 画出检测到的行人\n",
    "for (x, y, w, h) in rects:\n",
    "    cv2.rectangle(img, (x, y), (x + w, y + h), (0, 255, 0), 2)\n",
    "\n",
    "# 显示结果\n",
    "cv2.imshow(\"Detection\", img)\n",
    "cv2.waitKey(0)\n",
    "cv2.destroyAllWindows()\n"
   ]
  },
  {
   "cell_type": "code",
   "execution_count": null,
   "id": "d13c6abb",
   "metadata": {},
   "outputs": [],
   "source": []
  }
 ],
 "metadata": {
  "kernelspec": {
   "display_name": "Python [conda env:.conda-pytorch]",
   "language": "python",
   "name": "conda-env-.conda-pytorch-py"
  },
  "language_info": {
   "codemirror_mode": {
    "name": "ipython",
    "version": 3
   },
   "file_extension": ".py",
   "mimetype": "text/x-python",
   "name": "python",
   "nbconvert_exporter": "python",
   "pygments_lexer": "ipython3",
   "version": "3.8.18"
  }
 },
 "nbformat": 4,
 "nbformat_minor": 5
}
