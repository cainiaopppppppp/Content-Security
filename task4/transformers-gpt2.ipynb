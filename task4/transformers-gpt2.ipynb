{
 "cells": [
  {
   "cell_type": "code",
   "execution_count": 1,
   "metadata": {
    "execution": {
     "iopub.execute_input": "2020-08-27T01:29:56.864502Z",
     "iopub.status.busy": "2020-08-27T01:29:56.862781Z",
     "iopub.status.idle": "2020-08-27T01:29:56.865117Z",
     "shell.execute_reply": "2020-08-27T01:29:56.865692Z"
    },
    "papermill": {
     "duration": 0.014061,
     "end_time": "2020-08-27T01:29:56.865831",
     "exception": false,
     "start_time": "2020-08-27T01:29:56.851770",
     "status": "completed"
    },
    "tags": []
   },
   "outputs": [],
   "source": [
    "# 为了可重复性\n",
    "SEED = 34\n",
    "\n",
    "# 输出文本的最大单词数\n",
    "MAX_LEN = 70"
   ]
  },
  {
   "cell_type": "code",
   "execution_count": 2,
   "metadata": {
    "execution": {
     "iopub.execute_input": "2020-08-27T01:29:56.895800Z",
     "iopub.status.busy": "2020-08-27T01:29:56.895097Z",
     "iopub.status.idle": "2020-08-27T01:29:56.897907Z",
     "shell.execute_reply": "2020-08-27T01:29:56.897180Z"
    },
    "papermill": {
     "duration": 0.012977,
     "end_time": "2020-08-27T01:29:56.898015",
     "exception": false,
     "start_time": "2020-08-27T01:29:56.885038",
     "status": "completed"
    },
    "tags": []
   },
   "outputs": [],
   "source": [
    "input_sequence = \"I don't know about you, but there's only one thing I want to do after a long day of work\""
   ]
  },
  {
   "cell_type": "code",
   "execution_count": 3,
   "metadata": {
    "execution": {
     "iopub.execute_input": "2020-08-27T01:29:56.928251Z",
     "iopub.status.busy": "2020-08-27T01:29:56.927649Z",
     "iopub.status.idle": "2020-08-27T01:31:49.755248Z",
     "shell.execute_reply": "2020-08-27T01:31:49.754578Z"
    },
    "papermill": {
     "duration": 112.836886,
     "end_time": "2020-08-27T01:31:49.755425",
     "exception": false,
     "start_time": "2020-08-27T01:29:56.918539",
     "status": "completed"
    },
    "scrolled": true,
    "tags": []
   },
   "outputs": [
    {
     "name": "stderr",
     "output_type": "stream",
     "text": [
      "All PyTorch model weights were used when initializing TFGPT2LMHeadModel.\n",
      "\n",
      "All the weights of TFGPT2LMHeadModel were initialized from the PyTorch model.\n",
      "If your task is similar to the task the model of the checkpoint was trained on, you can already use TFGPT2LMHeadModel for predictions without further training.\n"
     ]
    },
    {
     "name": "stdout",
     "output_type": "stream",
     "text": [
      "Model: \"tfgpt2lm_head_model\"\n",
      "_________________________________________________________________\n",
      " Layer (type)                Output Shape              Param #   \n",
      "=================================================================\n",
      " transformer (TFGPT2MainLaye  multiple                 774030080 \n",
      " r)                                                              \n",
      "                                                                 \n",
      "=================================================================\n",
      "Total params: 774,030,080\n",
      "Trainable params: 774,030,080\n",
      "Non-trainable params: 0\n",
      "_________________________________________________________________\n"
     ]
    }
   ],
   "source": [
    "# 导入 transformers\n",
    "from transformers import TFGPT2LMHeadModel, GPT2Tokenizer\n",
    "\n",
    "# 获取大型GPT2 tokenizer 和 GPT2模型\n",
    "local_model_dir = 'D:/Content_Secu/task4/gpt2-large'\n",
    "\n",
    "# 从本地文件夹加载分词器和模型\n",
    "tokenizer = GPT2Tokenizer.from_pretrained(local_model_dir)\n",
    "GPT2 = TFGPT2LMHeadModel.from_pretrained(local_model_dir, pad_token_id=tokenizer.eos_token_id)\n",
    "\n",
    "#tokenizer = GPT2Tokenizer.from_pretrained(\"gpt2-medium\")\n",
    "#GPT2 = TFGPT2LMHeadModel.from_pretrained(\"gpt2-medium\", pad_token_id=tokenizer.eos_token_id)\n",
    "\n",
    "#tokenizer = GPT2Tokenizer.from_pretrained(\"gpt2\")\n",
    "#GPT2 = TFGPT2LMHeadModel.from_pretrained(\"gpt2\", pad_token_id=tokenizer.eos_token_id)\n",
    "\n",
    "# 查看模型参数\n",
    "GPT2.summary()"
   ]
  },
  {
   "cell_type": "markdown",
   "metadata": {
    "papermill": {
     "duration": 0.00655,
     "end_time": "2020-08-27T01:31:49.782971",
     "exception": false,
     "start_time": "2020-08-27T01:31:49.776421",
     "status": "completed"
    },
    "tags": []
   },
   "source": [
    "# 第一次尝试（贪婪搜索）\n",
    "\n",
    "**使用贪婪搜索，概率最高的词被预测为下一个词，即每个时间步 $t$ 更新下一个词为：**\n",
    "\n",
    "$$w_t = argmax_{w}P(w | w_{1:t-1})$$\n",
    "\n",
    "**让我们看看这种简单方法的表现：**"
   ]
  },
  {
   "cell_type": "code",
   "execution_count": 4,
   "metadata": {
    "execution": {
     "iopub.execute_input": "2020-08-27T01:31:49.801873Z",
     "iopub.status.busy": "2020-08-27T01:31:49.801289Z",
     "iopub.status.idle": "2020-08-27T01:31:49.803990Z",
     "shell.execute_reply": "2020-08-27T01:31:49.803540Z"
    },
    "papermill": {
     "duration": 0.014282,
     "end_time": "2020-08-27T01:31:49.804086",
     "exception": false,
     "start_time": "2020-08-27T01:31:49.789804",
     "status": "completed"
    },
    "tags": []
   },
   "outputs": [],
   "source": [
    "# 导入深度学习基础库\n",
    "import tensorflow as tf\n",
    "tf.random.set_seed(SEED)"
   ]
  },
  {
   "cell_type": "code",
   "execution_count": 5,
   "metadata": {
    "execution": {
     "iopub.execute_input": "2020-08-27T01:31:49.821608Z",
     "iopub.status.busy": "2020-08-27T01:31:49.820776Z",
     "iopub.status.idle": "2020-08-27T01:32:22.577795Z",
     "shell.execute_reply": "2020-08-27T01:32:22.578453Z"
    },
    "papermill": {
     "duration": 32.767642,
     "end_time": "2020-08-27T01:32:22.578643",
     "exception": false,
     "start_time": "2020-08-27T01:31:49.811001",
     "status": "completed"
    },
    "tags": []
   },
   "outputs": [
    {
     "name": "stdout",
     "output_type": "stream",
     "text": [
      "Output:\n",
      "----------------------------------------------------------------------------------------------------\n",
      "I don't know about you, but there's only one thing I want to do after a long day of work: go to the gym.\n",
      "\n",
      "I'm not talking about the gym that's right next to my house. I'm talking about the gym that's right next to my office.\n",
      "\n",
      "I'm not talking about the gym that\n"
     ]
    }
   ],
   "source": [
    "# 用我们的开头来续写，使用 GPT-2 模型生成一个最大长度为 MAX_LEN 的文本\n",
    "# 编码生成条件的上下文\n",
    "input_ids = tokenizer.encode(input_sequence, return_tensors='tf')\n",
    "\n",
    "# 生成文本直到输出长度（包括上下文长度）达到50\n",
    "greedy_output = GPT2.generate(input_ids, max_length = MAX_LEN)\n",
    "\n",
    "print(\"Output:\\n\" + 100 * '-')\n",
    "print(tokenizer.decode(greedy_output[0], skip_special_tokens = True))"
   ]
  },
  {
   "cell_type": "markdown",
   "metadata": {
    "papermill": {
     "duration": 0.006829,
     "end_time": "2020-08-27T01:32:22.594857",
     "exception": false,
     "start_time": "2020-08-27T01:32:22.588028",
     "status": "completed"
    },
    "tags": []
   },
   "source": [
    "**这样我们就完成了文本生成。我们的结果并不是很好 —— 我们可以看到，模型很快就开始重复自己了。贪婪搜索的主要问题是，高概率的词可能被前面低概率的词所掩盖，所以模型无法探索更多样化的词组合。我们可以通过实施 Beam 搜索来防止这种情况发生：**"
   ]
  },
  {
   "cell_type": "markdown",
   "metadata": {
    "papermill": {
     "duration": 0.006632,
     "end_time": "2020-08-27T01:32:22.608643",
     "exception": false,
     "start_time": "2020-08-27T01:32:22.602011",
     "status": "completed"
    },
    "tags": []
   },
   "source": [
    "## 带N-gram惩罚的Beam搜索\n",
    "\n",
    "**Beam搜索本质上是贪婪搜索，但模型在每个时间步跟踪并保留`num_beams`个假设，因此模型能够在生成文本时比较替代路径。我们还可以通过设置`no_repeat_ngram_size = 2`来包括n-gram惩罚，确保不会有2-gram重复出现。我们还将设置`num_return_sequences = 5`，这样我们可以看到其他5个beam的样子。**\n",
    "\n",
    "**修改`generate`函数中的一些参数以使用Beam搜索：**"
   ]
  },
  {
   "cell_type": "code",
   "execution_count": 6,
   "metadata": {
    "execution": {
     "iopub.execute_input": "2020-08-27T01:32:22.625196Z",
     "iopub.status.busy": "2020-08-27T01:32:22.624671Z",
     "iopub.status.idle": "2020-08-27T01:33:21.575466Z",
     "shell.execute_reply": "2020-08-27T01:33:21.576152Z"
    },
    "papermill": {
     "duration": 58.960915,
     "end_time": "2020-08-27T01:33:21.576370",
     "exception": false,
     "start_time": "2020-08-27T01:32:22.615455",
     "status": "completed"
    },
    "tags": []
   },
   "outputs": [
    {
     "name": "stdout",
     "output_type": "stream",
     "text": [
      "\n",
      "Output:\n",
      "----------------------------------------------------------------------------------------------------\n",
      "0: I don't know about you, but there's only one thing I want to do after a long day of work, and that's to sit down and watch a movie.\"\n",
      "\n",
      "\"I know, I know,\" you say. \"But you're not going to like this one. It's not a good movie. I mean, it's\n",
      "1: I don't know about you, but there's only one thing I want to do after a long day of work, and that's to sit down and watch a movie.\"\n",
      "\n",
      "\"I know, I know,\" you say. \"But you're not going to like this one. It's about a guy who has a crush on a girl\n",
      "2: I don't know about you, but there's only one thing I want to do after a long day of work, and that's to sit down and watch a movie.\"\n",
      "\n",
      "\"I know, I know,\" you say. \"But you're not going to like this one. It's about a guy who has a crush on a woman\n",
      "3: I don't know about you, but there's only one thing I want to do after a long day of work, and that's to sit down and watch a movie.\"\n",
      "\n",
      "\"I know, I know,\" you say. \"But you're not going to like this one. It's about a guy who has a crush on a beautiful\n",
      "4: I don't know about you, but there's only one thing I want to do after a long day of work, and that's to sit down and watch a movie.\"\n",
      "\n",
      "\"I know, I know,\" you say. \"But you're not going to like this one. It's not a good movie. I'm not sure if\n"
     ]
    }
   ],
   "source": [
    "# 修改 `generate` 函数中的一些参数以使用 Beam 搜索：\n",
    "beam_outputs = GPT2.generate(\n",
    "    input_ids, \n",
    "    max_length = MAX_LEN, \n",
    "    num_beams = 5, \n",
    "    no_repeat_ngram_size = 2, \n",
    "    num_return_sequences = 5, \n",
    "    early_stopping = True\n",
    ")\n",
    "\n",
    "print('')\n",
    "print(\"Output:\\n\" + 100 * '-')\n",
    "\n",
    "# 使用了 GPT-2 模型的 Beam 搜索策略来生成文本，并展示五个不同的生成结果\n",
    "for i, beam_output in enumerate(beam_outputs):\n",
    "      print(\"{}: {}\".format(i, tokenizer.decode(beam_output, skip_special_tokens=True)))"
   ]
  },
  {
   "cell_type": "markdown",
   "metadata": {
    "papermill": {
     "duration": 0.006918,
     "end_time": "2020-08-27T01:33:21.591736",
     "exception": false,
     "start_time": "2020-08-27T01:33:21.584818",
     "status": "completed"
    },
    "tags": []
   },
   "source": [
    "**这样就好多了！5 个不同的 beam 假设几乎都是一样的，但如果我们增加 `num_beams` 的数量，我们会在不同的 beams 中看到更多的变化。当然，Beam 搜索也不是完美的。它在生成文本的长度大致恒定时表现得很好，比如翻译或总结这类问题，但对于像对话或故事生成这类开放式问题就不那么适用了（因为很难找到 `num_beams` 和 `no_repeat_ngram_size` 之间的平衡）。**"
   ]
  },
  {
   "cell_type": "markdown",
   "metadata": {
    "papermill": {
     "duration": 0.00667,
     "end_time": "2020-08-27T01:33:21.605587",
     "exception": false,
     "start_time": "2020-08-27T01:33:21.598917",
     "status": "completed"
    },
    "tags": []
   },
   "source": [
    "## 基本采样\n",
    "\n",
    "**现在我们将探索非确定性解码——采样。与其沿着固定路径寻找概率最高的终点文本，不如随机根据其条件概率分布选择下一个词：**\n",
    "\n",
    "$$w_t \\sim P(w|w_{1:t-1})$$\n",
    "\n",
    "**然而，当我们引入这种随机性时，生成的文本往往会变得不连贯（更多信息见[这里](https://arxiv.org/pdf/1904.09751.pdf)），因此我们可以引入温度参数，这个参数可以增加高概率词出现的机会，同时减少低概率词的机会：**\n",
    "\n",
    "**我们只需设置 do_sample = True 来实现随机采样，top_k = 0（暂不使用 Top-K 采样），temperature = 0.8 设置采样温度，：**"
   ]
  },
  {
   "cell_type": "code",
   "execution_count": 7,
   "metadata": {
    "execution": {
     "iopub.execute_input": "2020-08-27T01:33:21.626013Z",
     "iopub.status.busy": "2020-08-27T01:33:21.625426Z",
     "iopub.status.idle": "2020-08-27T01:33:54.255874Z",
     "shell.execute_reply": "2020-08-27T01:33:54.256598Z"
    },
    "papermill": {
     "duration": 32.644265,
     "end_time": "2020-08-27T01:33:54.256781",
     "exception": false,
     "start_time": "2020-08-27T01:33:21.612516",
     "status": "completed"
    },
    "tags": []
   },
   "outputs": [
    {
     "name": "stdout",
     "output_type": "stream",
     "text": [
      "Output:\n",
      "----------------------------------------------------------------------------------------------------\n",
      "I don't know about you, but there's only one thing I want to do after a long day of work.\"\n",
      "\n",
      "\"Hmm. Must be quite the choice of words.\"\n",
      "\n",
      "\"Well, it's not a choice of words, but a need. I can't find the right answer until I find my answer.\"\n",
      "\n",
      "\"\n"
     ]
    }
   ],
   "source": [
    "# 温度参数用于控制输出文本的随机性。温度越高，输出越随机；温度越低，则趋于选择概率较高的词。\n",
    "sample_output = GPT2.generate(\n",
    "                             input_ids, \n",
    "                             do_sample = True, \n",
    "                             max_length = MAX_LEN, \n",
    "                             top_k = 0, \n",
    "                             temperature = 0.8\n",
    ")\n",
    "\n",
    "print(\"Output:\\n\" + 100 * '-')\n",
    "print(tokenizer.decode(sample_output[0], skip_special_tokens = True))"
   ]
  },
  {
   "cell_type": "markdown",
   "metadata": {
    "papermill": {
     "duration": 0.007118,
     "end_time": "2020-08-27T01:33:54.272561",
     "exception": false,
     "start_time": "2020-08-27T01:33:54.265443",
     "status": "completed"
    },
    "tags": []
   },
   "source": [
    "## Top-K 采样\n",
    "\n",
    "**在 Top-K 采样中，选择最有可能的 k 个下一个词，并将整个概率质量转移到这些词上。因此我们不是增加高概率词出现的机会，而是完全移除低概率词：**\n",
    "\n",
    "**设置top_k的值:**"
   ]
  },
  {
   "cell_type": "code",
   "execution_count": 8,
   "metadata": {
    "execution": {
     "iopub.execute_input": "2020-08-27T01:33:54.299159Z",
     "iopub.status.busy": "2020-08-27T01:33:54.292468Z",
     "iopub.status.idle": "2020-08-27T01:34:28.035752Z",
     "shell.execute_reply": "2020-08-27T01:34:28.036509Z"
    },
    "papermill": {
     "duration": 33.75677,
     "end_time": "2020-08-27T01:34:28.036704",
     "exception": false,
     "start_time": "2020-08-27T01:33:54.279934",
     "status": "completed"
    },
    "tags": []
   },
   "outputs": [
    {
     "name": "stdout",
     "output_type": "stream",
     "text": [
      "Output:\n",
      "----------------------------------------------------------------------------------------------------\n",
      "I don't know about you, but there's only one thing I want to do after a long day of work. I want to get out of here and go jogging. To go jogging.\"\n",
      "\n",
      "\"That may be true, but I don't really have much money to spare!\"\n",
      "\n",
      "\"That's true too. Why don ...\n"
     ]
    }
   ],
   "source": [
    "# 只从最有可能的 k 个词中采样\n",
    "sample_output = GPT2.generate(\n",
    "                             input_ids, \n",
    "                             do_sample = True, \n",
    "                             max_length = MAX_LEN, \n",
    "                             top_k = 50\n",
    ")\n",
    "\n",
    "print(\"Output:\\n\" + 100 * '-')\n",
    "print(tokenizer.decode(sample_output[0], skip_special_tokens = True), '...')"
   ]
  },
  {
   "cell_type": "markdown",
   "metadata": {
    "papermill": {
     "duration": 0.007464,
     "end_time": "2020-08-27T01:34:28.053113",
     "exception": false,
     "start_time": "2020-08-27T01:34:28.045649",
     "status": "completed"
    },
    "tags": []
   },
   "source": [
    "**Top-K 采样似乎比我们之前的随机采样生成的文本更连贯。但我们可以做得更好：**"
   ]
  },
  {
   "cell_type": "markdown",
   "metadata": {
    "papermill": {
     "duration": 0.007438,
     "end_time": "2020-08-27T01:34:28.068384",
     "exception": false,
     "start_time": "2020-08-27T01:34:28.060946",
     "status": "completed"
    },
    "tags": []
   },
   "source": [
    "## Top-P 采样\n",
    "\n",
    "**Top-P 采样（也称为核心采样）类似于 Top-K，但不是选择最有可能的 k 个词，我们选择累积概率大于 p 的最小词集，然后将整个概率质量转移到这个集合的词上：**\n",
    "\n",
    "**top_k=0,设置top_p的值:**"
   ]
  },
  {
   "cell_type": "code",
   "execution_count": 9,
   "metadata": {
    "execution": {
     "iopub.execute_input": "2020-08-27T01:34:28.089767Z",
     "iopub.status.busy": "2020-08-27T01:34:28.089137Z",
     "iopub.status.idle": "2020-08-27T01:35:02.050650Z",
     "shell.execute_reply": "2020-08-27T01:35:02.051321Z"
    },
    "papermill": {
     "duration": 33.97576,
     "end_time": "2020-08-27T01:35:02.051566",
     "exception": false,
     "start_time": "2020-08-27T01:34:28.075806",
     "status": "completed"
    },
    "tags": []
   },
   "outputs": [
    {
     "name": "stdout",
     "output_type": "stream",
     "text": [
      "Output:\n",
      "----------------------------------------------------------------------------------------------------\n",
      "I don't know about you, but there's only one thing I want to do after a long day of work: try out some dessert! Today I've got a total of four different fruit ice creams from The Baker's Dozen. I'm going to share three of them with you, each with a twist.\n",
      "\n",
      "One was made ...\n"
     ]
    }
   ],
   "source": [
    "# 只从最有可能的 80% 词中采样\n",
    "sample_output = GPT2.generate(\n",
    "                             input_ids, \n",
    "                             do_sample = True, \n",
    "                             max_length = MAX_LEN, \n",
    "                             top_p = 0.8, \n",
    "                             top_k = 0\n",
    ")\n",
    "\n",
    "print(\"Output:\\n\" + 100 * '-')\n",
    "print(tokenizer.decode(sample_output[0], skip_special_tokens = True), '...')"
   ]
  },
  {
   "cell_type": "markdown",
   "metadata": {
    "papermill": {
     "duration": 0.007207,
     "end_time": "2020-08-27T01:35:02.066391",
     "exception": false,
     "start_time": "2020-08-27T01:35:02.059184",
     "status": "completed"
    },
    "tags": []
   },
   "source": [
    "## Top-K 和 Top-P 采样\n",
    "\n",
    "**我们可以在这里同时使用 Top-K 和 Top-P 采样。这样可以减少我们得到奇怪词（低概率词）的机会，同时允许动态选择大小。我们只需要为两者设置一个值。如果我们想，我们甚至可以包含最初的温度参数，现在让我们看看在添加这些参数后，我们的模型表现如何。我们将检查前 5 个返回结果，看看我们的答案有多少变化：**"
   ]
  },
  {
   "cell_type": "code",
   "execution_count": 10,
   "metadata": {
    "execution": {
     "iopub.execute_input": "2020-08-27T01:35:02.087451Z",
     "iopub.status.busy": "2020-08-27T01:35:02.086858Z",
     "iopub.status.idle": "2020-08-27T01:37:22.372979Z",
     "shell.execute_reply": "2020-08-27T01:37:22.373740Z"
    },
    "papermill": {
     "duration": 140.299905,
     "end_time": "2020-08-27T01:37:22.373963",
     "exception": false,
     "start_time": "2020-08-27T01:35:02.074058",
     "status": "completed"
    },
    "tags": []
   },
   "outputs": [
    {
     "name": "stdout",
     "output_type": "stream",
     "text": [
      "Output:\n",
      "----------------------------------------------------------------------------------------------------\n",
      "0: I don't know about you, but there's only one thing I want to do after a long day of work and this is one of it. I have to do something else. It's been quite an exciting couple of weeks at the office, haven't I?\n",
      "\n",
      "Makes you wonder about the people who didn't get the memo that a long day of work is about to turn into a long day of fun....\n",
      "\n",
      "\n",
      "1: I don't know about you, but there's only one thing I want to do after a long day of work: watch some movies on my bed!\n",
      "\n",
      "So, I took a trip to my local mall to check out a new line of \"couples\" furniture. It's the same type of furniture that I saw on an episode of The Bachelor. It's the kind of furniture that makes me think that if I were to be on a reality TV show, I would be dating one of the characters from that show.\n",
      "\n",
      "The first thing I noticed about the furniture was that there are no chairs. There is only one bed, a desk, a table, and two chairs...\n",
      "\n",
      "\n",
      "2: I don't know about you, but there's only one thing I want to do after a long day of work, and that's to go on an adventure! You know, to see if I can get myself to the bottom of the hole before some kind of horrible death and/or injury happens to me. The one thing I know for sure is that I have never, ever, played in a hole of my own creation. I can say that from experience. The hole is my work. I had no choice but to use it as a playground. I used to do some of my most interesting and imaginative work on the hole.\n",
      "\n",
      "When I say \"my hole,\" I mean the...\n",
      "\n",
      "\n",
      "3: I don't know about you, but there's only one thing I want to do after a long day of work.\n",
      "\n",
      "\n",
      "Oh, how my soul hurts to think of it.\n",
      "\n",
      "\n",
      "The only reason I'm able to stand to look at myself in the mirror, with my face so distorted, is because I know it's not me.\n",
      "\n",
      "\n",
      "I was a little sad to hear that a person would die in the car accident on the way to the hospital.\n",
      "\n",
      "\n",
      "It's the only way to express how I feel when you don't say the right words at the right time.\n",
      "\n",
      "\n",
      "I had the opportunity to visit some of the most amazing people in the world in New York...\n",
      "\n",
      "\n",
      "4: I don't know about you, but there's only one thing I want to do after a long day of work. I want to relax and watch TV and not worry about work.\n",
      "\n",
      "My first stop on my weekend road trip is the nearest shopping mall.\n",
      "\n",
      "We are on the way to my aunt's house. She's a retired teacher. I can't wait to spend my weekends with her.\n",
      "\n",
      "After walking to the mall, I walked around the city. I looked around the different shopping centers and shops. There's so much to do in Japan.\n",
      "\n",
      "I picked out a few shops to visit in this shopping mall.\n",
      "\n",
      "One of them was a souvenir...\n",
      "\n",
      "\n"
     ]
    }
   ],
   "source": [
    "# 结合两种采样技术\n",
    "sample_outputs = GPT2.generate(\n",
    "                              input_ids,\n",
    "                              do_sample = True, \n",
    "                              max_length = 2*MAX_LEN,\n",
    "                              #temperature = .7,\n",
    "                              top_k = 50, \n",
    "                              top_p = 0.85, \n",
    "                              num_return_sequences = 5\n",
    ")\n",
    "\n",
    "print(\"Output:\\n\" + 100 * '-')\n",
    "for i, sample_output in enumerate(sample_outputs):\n",
    "    print(\"{}: {}...\".format(i, tokenizer.decode(sample_output, skip_special_tokens = True)))\n",
    "    print('')\n",
    "    print('')"
   ]
  },
  {
   "cell_type": "markdown",
   "metadata": {},
   "source": [
    "## temperature、Top-K 和 Top-P 采样\n",
    "\n",
    "**我们可以在这里同时使用temperature、 Top-K 和 Top-P 采样。这样可以减少我们得到奇怪词（低概率词）的机会，同时允许动态选择大小。我们只需要为两者设置一个值。如果我们想，我们甚至可以包含最初的温度参数，现在让我们看看在添加这些参数后，我们的模型表现如何。我们将检查前 5 个返回结果，看看我们的答案有多少变化：**"
   ]
  },
  {
   "cell_type": "code",
   "execution_count": 11,
   "metadata": {},
   "outputs": [
    {
     "name": "stdout",
     "output_type": "stream",
     "text": [
      "Output:\n",
      "----------------------------------------------------------------------------------------------------\n",
      "0: I don't know about you, but there's only one thing I want to do after a long day of work: drink beer. But, if you're not into that, I've got some great suggestions for you.\n",
      "\n",
      "1. Try a beer made with a non-alcoholic malt.\n",
      "\n",
      "For example, this is the first beer I've ever made with a pilsner malt. I wanted a beer that was a bit less bitter than what I was used to. But this beer was delicious.\n",
      "\n",
      "2. Go with a stout.\n",
      "\n",
      "I think the most underrated beer in the world. I've been drinking it for years and I've always been impressed by...\n",
      "\n",
      "\n",
      "1: I don't know about you, but there's only one thing I want to do after a long day of work: I want to go to the movies.\"\n",
      "\n",
      "The first person I told about this was the manager of the movie theater I used to frequent. He laughed and said, \"You mean you want to go to the movies on a Friday night?\"\n",
      "\n",
      "\"Yeah, I do,\" I said. \"I mean, I'll be able to see a movie on a Friday night if I work for a movie theater.\"\n",
      "\n",
      "\"What?\" he said. \"You want to go to the movies on a Friday night? You're not going to work in a movie theater?...\n",
      "\n",
      "\n",
      "2: I don't know about you, but there's only one thing I want to do after a long day of work: eat a little breakfast.\"\n",
      "\n",
      "The man sat up straight, his face contorted with confusion.\n",
      "\n",
      "\"What? What are you talking about?\"\n",
      "\n",
      "\"Just… eat a little breakfast. It's not that bad. And it'll make your day better. Now, get up and go.\"\n",
      "\n",
      "The man rose from his chair and made his way to the door. He didn't even glance at the man who had just entered. He didn't even look at the door again. He just walked straight out.\n",
      "\n",
      "I was a bit startled. What...\n",
      "\n",
      "\n",
      "3: I don't know about you, but there's only one thing I want to do after a long day of work: get home and play some video games!\"\n",
      "\n",
      "While he's not going to be playing Mario Kart 8, he is going to be playing the game's upcoming multiplayer mode. In it, he'll be able to battle other players, and in doing so, he's hoping to improve his skills and get better at the game.\n",
      "\n",
      "\"I've been playing a lot of multiplayer games, but I haven't had much luck at it,\" he said. \"I was playing a couple of games recently that really made me feel like I had a good shot at beating the game...\n",
      "\n",
      "\n",
      "4: I don't know about you, but there's only one thing I want to do after a long day of work: play some videogames. So I decided to start a new project in the form of a virtual reality game.\n",
      "\n",
      "How did it begin?\n",
      "\n",
      "I was browsing the internet and I saw a project called \"Reverse Chronos\". It was a video game which would take the player back in time. I knew I wanted to make a virtual reality game and I wanted to create a game in which the player would experience the experience of the time that he or she was in. I started to think about what the player would do if he or she was in the past...\n",
      "\n",
      "\n"
     ]
    }
   ],
   "source": [
    "# 结合两种采样技术\n",
    "sample_outputs = GPT2.generate(\n",
    "                              input_ids,\n",
    "                              do_sample = True, \n",
    "                              max_length = 2*MAX_LEN,\n",
    "                              temperature = 0.8,\n",
    "                              top_k = 50, \n",
    "                              top_p = 0.85, \n",
    "                              num_return_sequences = 5\n",
    ")\n",
    "\n",
    "print(\"Output:\\n\" + 100 * '-')\n",
    "for i, sample_output in enumerate(sample_outputs):\n",
    "    print(\"{}: {}...\".format(i, tokenizer.decode(sample_output, skip_special_tokens = True)))\n",
    "    print('')\n",
    "    print('')"
   ]
  },
  {
   "cell_type": "markdown",
   "metadata": {
    "papermill": {
     "duration": 0.00739,
     "end_time": "2020-08-27T01:37:22.393580",
     "exception": false,
     "start_time": "2020-08-27T01:37:22.386190",
     "status": "completed"
    },
    "tags": []
   },
   "source": [
    "# 基准提示\n",
    "\n",
    "**在这里，我们将看到当给定一些更有趣的输入时，GPT-2 模型的表现如何。**"
   ]
  },
  {
   "cell_type": "code",
   "execution_count": 12,
   "metadata": {
    "execution": {
     "iopub.execute_input": "2020-08-27T01:37:22.412828Z",
     "iopub.status.busy": "2020-08-27T01:37:22.412257Z",
     "iopub.status.idle": "2020-08-27T01:37:22.415091Z",
     "shell.execute_reply": "2020-08-27T01:37:22.414394Z"
    },
    "papermill": {
     "duration": 0.014255,
     "end_time": "2020-08-27T01:37:22.415208",
     "exception": false,
     "start_time": "2020-08-27T01:37:22.400953",
     "status": "completed"
    },
    "tags": []
   },
   "outputs": [],
   "source": [
    "MAX_LEN = 150"
   ]
  },
  {
   "cell_type": "markdown",
   "metadata": {
    "papermill": {
     "duration": 0.007205,
     "end_time": "2020-08-27T01:37:22.430110",
     "exception": false,
     "start_time": "2020-08-27T01:37:22.422905",
     "status": "completed"
    },
    "tags": []
   },
   "source": [
    "## \"In a shocking finding, scientist discovered a herd of unicorns living in a remote, previously unexplored valley, in the Andes Mountains. Even more surprising to the researchers was the fact that the unicorns spoke perfect English.\""
   ]
  },
  {
   "cell_type": "code",
   "execution_count": 13,
   "metadata": {
    "execution": {
     "iopub.execute_input": "2020-08-27T01:37:22.451019Z",
     "iopub.status.busy": "2020-08-27T01:37:22.449076Z",
     "iopub.status.idle": "2020-08-27T01:37:22.454274Z",
     "shell.execute_reply": "2020-08-27T01:37:22.453784Z"
    },
    "papermill": {
     "duration": 0.016895,
     "end_time": "2020-08-27T01:37:22.454403",
     "exception": false,
     "start_time": "2020-08-27T01:37:22.437508",
     "status": "completed"
    },
    "tags": []
   },
   "outputs": [],
   "source": [
    "prompt1 = 'In a shocking finding, scientist discovered a herd of unicorns living in a remote, previously unexplored valley, in the Andes Mountains. Even more surprising to the researchers was the fact that the unicorns spoke perfect English.'\n",
    "\n",
    "input_ids = tokenizer.encode(prompt1, return_tensors='tf')"
   ]
  },
  {
   "cell_type": "code",
   "execution_count": 14,
   "metadata": {
    "execution": {
     "iopub.execute_input": "2020-08-27T01:37:22.476048Z",
     "iopub.status.busy": "2020-08-27T01:37:22.475179Z",
     "iopub.status.idle": "2020-08-27T01:38:38.836472Z",
     "shell.execute_reply": "2020-08-27T01:38:38.837163Z"
    },
    "papermill": {
     "duration": 76.375403,
     "end_time": "2020-08-27T01:38:38.837371",
     "exception": false,
     "start_time": "2020-08-27T01:37:22.461968",
     "status": "completed"
    },
    "tags": []
   },
   "outputs": [
    {
     "name": "stdout",
     "output_type": "stream",
     "text": [
      "Output:\n",
      "----------------------------------------------------------------------------------------------------\n",
      "0: In a shocking finding, scientist discovered a herd of unicorns living in a remote, previously unexplored valley, in the Andes Mountains. Even more surprising to the researchers was the fact that the unicorns spoke perfect English.\n",
      "\n",
      "The discovery came when scientists headed to the area in 2011 to take a look for water. When they didn't find anything, they headed back to the location to get more water samples, which was when the strange creatures were spotted.\n",
      "\n",
      "The team of researchers, led by Dr. Tom Tarnita of the National Geographic Society, says the animals were not a typical herd of unicorns that could be found in many areas of the world, where they are thought to live. The animals had a white coat,...\n",
      "\n"
     ]
    }
   ],
   "source": [
    "sample_outputs = GPT2.generate(\n",
    "                              input_ids,\n",
    "                              do_sample = True, \n",
    "                              max_length = MAX_LEN,\n",
    "                              temperature = 0.8,\n",
    "                              top_k = 50, \n",
    "                              top_p = 0.85 \n",
    "                              #num_return_sequences = 5\n",
    ")\n",
    "\n",
    "print(\"Output:\\n\" + 100 * '-')\n",
    "for i, sample_output in enumerate(sample_outputs):\n",
    "    print(\"{}: {}...\".format(i, tokenizer.decode(sample_output, skip_special_tokens = True)))\n",
    "    print('')"
   ]
  },
  {
   "cell_type": "markdown",
   "metadata": {
    "papermill": {
     "duration": 0.007411,
     "end_time": "2020-08-27T01:38:38.854046",
     "exception": false,
     "start_time": "2020-08-27T01:38:38.846635",
     "status": "completed"
    },
    "tags": []
   },
   "source": [
    "## \"Miley Cyrus was caught shoplifting from Abercrombie and Fitch on Hollywood Boulevard today.\""
   ]
  },
  {
   "cell_type": "code",
   "execution_count": 21,
   "metadata": {
    "execution": {
     "iopub.execute_input": "2020-08-27T01:38:38.874787Z",
     "iopub.status.busy": "2020-08-27T01:38:38.873280Z",
     "iopub.status.idle": "2020-08-27T01:38:38.877494Z",
     "shell.execute_reply": "2020-08-27T01:38:38.876959Z"
    },
    "papermill": {
     "duration": 0.015914,
     "end_time": "2020-08-27T01:38:38.877596",
     "exception": false,
     "start_time": "2020-08-27T01:38:38.861682",
     "status": "completed"
    },
    "tags": []
   },
   "outputs": [],
   "source": [
    "prompt2 = 'Miley Cyrus was caught shoplifting from Abercrombie and Fitch on Hollywood Boulevard today.'\n",
    "\n",
    "input_ids = tokenizer.encode(prompt2, return_tensors='tf')"
   ]
  },
  {
   "cell_type": "code",
   "execution_count": 22,
   "metadata": {
    "execution": {
     "iopub.execute_input": "2020-08-27T01:38:38.899726Z",
     "iopub.status.busy": "2020-08-27T01:38:38.899111Z",
     "iopub.status.idle": "2020-08-27T01:39:44.259753Z",
     "shell.execute_reply": "2020-08-27T01:39:44.260220Z"
    },
    "papermill": {
     "duration": 65.374842,
     "end_time": "2020-08-27T01:39:44.260368",
     "exception": false,
     "start_time": "2020-08-27T01:38:38.885526",
     "status": "completed"
    },
    "tags": []
   },
   "outputs": [
    {
     "name": "stdout",
     "output_type": "stream",
     "text": [
      "Output:\n",
      "----------------------------------------------------------------------------------------------------\n",
      "0: Miley Cyrus was caught shoplifting from Abercrombie and Fitch on Hollywood Boulevard today. The singer was caught in the act after a security guard saw her walk out of the store with a bag full of clothes. She was later arrested on suspicion of shoplifting.\n",
      "\n",
      "The 21-year-old pop star was released on $5,000 bond.\n",
      "\n",
      "PHOTOS: The '90s' Most Shocking Celebrity Mug Shots\n",
      "\n",
      "It is unclear whether the incident was a one-time incident or if Cyrus has a history of shoplifting in the past. She was seen walking out of the store with the bag full of clothes.\n",
      "\n",
      "Cyrus was arrested last month after she was spotted in a Beverly Hills mall with a...\n",
      "\n"
     ]
    }
   ],
   "source": [
    "sample_outputs = GPT2.generate(\n",
    "                              input_ids,\n",
    "                              do_sample = True, \n",
    "                              max_length = MAX_LEN,\n",
    "                              temperature = 0.8,\n",
    "                              top_k = 50, \n",
    "                              top_p = 0.85\n",
    "                              #num_return_sequences = 5\n",
    ")\n",
    "\n",
    "print(\"Output:\\n\" + 100 * '-')\n",
    "for i, sample_output in enumerate(sample_outputs):\n",
    "    print(\"{}: {}...\".format(i, tokenizer.decode(sample_output, skip_special_tokens = True)))\n",
    "    print('')"
   ]
  },
  {
   "cell_type": "markdown",
   "metadata": {
    "papermill": {
     "duration": 0.007314,
     "end_time": "2020-08-27T01:39:44.275353",
     "exception": false,
     "start_time": "2020-08-27T01:39:44.268039",
     "status": "completed"
    },
    "tags": []
   },
   "source": [
    "## \"Legolas and Gimli advanced on the orcs, raising their weapons with a harrowing war cry.\""
   ]
  },
  {
   "cell_type": "code",
   "execution_count": 23,
   "metadata": {
    "execution": {
     "iopub.execute_input": "2020-08-27T01:39:44.293858Z",
     "iopub.status.busy": "2020-08-27T01:39:44.293034Z",
     "iopub.status.idle": "2020-08-27T01:39:44.297600Z",
     "shell.execute_reply": "2020-08-27T01:39:44.298022Z"
    },
    "papermill": {
     "duration": 0.015323,
     "end_time": "2020-08-27T01:39:44.298140",
     "exception": false,
     "start_time": "2020-08-27T01:39:44.282817",
     "status": "completed"
    },
    "tags": []
   },
   "outputs": [],
   "source": [
    "prompt3 = 'Legolas and Gimli advanced on the orcs, raising their weapons with a harrowing war cry.'\n",
    "\n",
    "input_ids = tokenizer.encode(prompt3, return_tensors='tf')"
   ]
  },
  {
   "cell_type": "code",
   "execution_count": 24,
   "metadata": {
    "execution": {
     "iopub.execute_input": "2020-08-27T01:39:44.316948Z",
     "iopub.status.busy": "2020-08-27T01:39:44.316085Z",
     "iopub.status.idle": "2020-08-27T01:41:17.350869Z",
     "shell.execute_reply": "2020-08-27T01:41:17.351674Z"
    },
    "papermill": {
     "duration": 93.046134,
     "end_time": "2020-08-27T01:41:17.351888",
     "exception": false,
     "start_time": "2020-08-27T01:39:44.305754",
     "status": "completed"
    },
    "tags": []
   },
   "outputs": [
    {
     "name": "stdout",
     "output_type": "stream",
     "text": [
      "Output:\n",
      "----------------------------------------------------------------------------------------------------\n",
      "0: Legolas and Gimli advanced on the orcs, raising their weapons with a harrowing war cry. As they passed through the battle, Gimli took a step back, and saw that the orcs had a large group of humans, their heads covered with a red and black cloak. \"We will not let them pass,\" he said. \"This is the land of the orcs, and I will not let them pass.\" He then turned to the humans and spoke: \"The people of the north have spoken. They have said that you are not welcome here.\" They turned to look at him. \"Who are you?\" they asked. \"I am the lord of the north,\" he said. \"The north is mine. The north is my home....\n",
      "\n"
     ]
    }
   ],
   "source": [
    "sample_outputs = GPT2.generate(\n",
    "                              input_ids,\n",
    "                              do_sample = True, \n",
    "                              max_length = MAX_LEN,\n",
    "                              temperature = 0.8,\n",
    "                              top_k = 50, \n",
    "                              top_p = 0.85 \n",
    "                              #num_return_sequences = 5\n",
    ")\n",
    "\n",
    "print(\"Output:\\n\" + 100 * '-')\n",
    "for i, sample_output in enumerate(sample_outputs):\n",
    "    print(\"{}: {}...\".format(i, tokenizer.decode(sample_output, skip_special_tokens = True)))\n",
    "    print('')"
   ]
  },
  {
   "cell_type": "markdown",
   "metadata": {
    "papermill": {
     "duration": 0.007728,
     "end_time": "2020-08-27T01:41:17.368947",
     "exception": false,
     "start_time": "2020-08-27T01:41:17.361219",
     "status": "completed"
    },
    "tags": []
   },
   "source": [
    "## \"For today’s homework assignment, please describe the reasons for the US Civil War.\"\n"
   ]
  },
  {
   "cell_type": "code",
   "execution_count": 25,
   "metadata": {
    "execution": {
     "iopub.execute_input": "2020-08-27T01:41:17.389915Z",
     "iopub.status.busy": "2020-08-27T01:41:17.388795Z",
     "iopub.status.idle": "2020-08-27T01:41:17.392986Z",
     "shell.execute_reply": "2020-08-27T01:41:17.392511Z"
    },
    "papermill": {
     "duration": 0.015823,
     "end_time": "2020-08-27T01:41:17.393084",
     "exception": false,
     "start_time": "2020-08-27T01:41:17.377261",
     "status": "completed"
    },
    "tags": []
   },
   "outputs": [],
   "source": [
    "prompt4 = \"For today’s homework assignment, please describe the reasons for the US Civil War.\"\n",
    "\n",
    "input_ids = tokenizer.encode(prompt4, return_tensors='tf')"
   ]
  },
  {
   "cell_type": "code",
   "execution_count": 26,
   "metadata": {
    "execution": {
     "iopub.execute_input": "2020-08-27T01:41:17.415594Z",
     "iopub.status.busy": "2020-08-27T01:41:17.415007Z",
     "iopub.status.idle": "2020-08-27T01:41:18.405282Z",
     "shell.execute_reply": "2020-08-27T01:41:18.404853Z"
    },
    "papermill": {
     "duration": 1.004293,
     "end_time": "2020-08-27T01:41:18.405405",
     "exception": false,
     "start_time": "2020-08-27T01:41:17.401112",
     "status": "completed"
    },
    "tags": []
   },
   "outputs": [
    {
     "name": "stdout",
     "output_type": "stream",
     "text": [
      "Output:\n",
      "----------------------------------------------------------------------------------------------------\n",
      "0: For today’s homework assignment, please describe the reasons for the US Civil War.\n",
      "\n",
      "What do you think would have happened if the Civil War never happened?\n",
      "\n",
      "Share your answer in the comments section below!...\n",
      "\n"
     ]
    }
   ],
   "source": [
    "sample_outputs = GPT2.generate(\n",
    "                              input_ids,\n",
    "                              do_sample = True, \n",
    "                              max_length = MAX_LEN,\n",
    "                              temperature = 0.8,\n",
    "                              top_k = 50, \n",
    "                              top_p = 0.85 \n",
    "                              #num_return_sequences = 5\n",
    ")\n",
    "\n",
    "print(\"Output:\\n\" + 100 * '-')\n",
    "for i, sample_output in enumerate(sample_outputs):\n",
    "    print(\"{}: {}...\".format(i, tokenizer.decode(sample_output, skip_special_tokens = True)))\n",
    "    print('')"
   ]
  }
 ],
 "metadata": {
  "kernelspec": {
   "display_name": "Python [conda env:.conda-tensorflow]",
   "language": "python",
   "name": "conda-env-.conda-tensorflow-py"
  },
  "language_info": {
   "codemirror_mode": {
    "name": "ipython",
    "version": 3
   },
   "file_extension": ".py",
   "mimetype": "text/x-python",
   "name": "python",
   "nbconvert_exporter": "python",
   "pygments_lexer": "ipython3",
   "version": "3.8.18"
  },
  "papermill": {
   "duration": 685.850705,
   "end_time": "2020-08-27T01:41:18.653488",
   "environment_variables": {},
   "exception": null,
   "input_path": "__notebook__.ipynb",
   "output_path": "__notebook__.ipynb",
   "parameters": {},
   "start_time": "2020-08-27T01:29:52.802783",
   "version": "2.1.0"
  },
  "widgets": {
   "application/vnd.jupyter.widget-state+json": {
    "state": {
     "0357f23486c1444c9924d8cc807b67f4": {
      "model_module": "@jupyter-widgets/base",
      "model_module_version": "1.2.0",
      "model_name": "LayoutModel",
      "state": {
       "_model_module": "@jupyter-widgets/base",
       "_model_module_version": "1.2.0",
       "_model_name": "LayoutModel",
       "_view_count": null,
       "_view_module": "@jupyter-widgets/base",
       "_view_module_version": "1.2.0",
       "_view_name": "LayoutView",
       "align_content": null,
       "align_items": null,
       "align_self": null,
       "border": null,
       "bottom": null,
       "display": null,
       "flex": null,
       "flex_flow": null,
       "grid_area": null,
       "grid_auto_columns": null,
       "grid_auto_flow": null,
       "grid_auto_rows": null,
       "grid_column": null,
       "grid_gap": null,
       "grid_row": null,
       "grid_template_areas": null,
       "grid_template_columns": null,
       "grid_template_rows": null,
       "height": null,
       "justify_content": null,
       "justify_items": null,
       "left": null,
       "margin": null,
       "max_height": null,
       "max_width": null,
       "min_height": null,
       "min_width": null,
       "object_fit": null,
       "object_position": null,
       "order": null,
       "overflow": null,
       "overflow_x": null,
       "overflow_y": null,
       "padding": null,
       "right": null,
       "top": null,
       "visibility": null,
       "width": null
      }
     },
     "04b96f2bf3bd47ab9fa6948211b98145": {
      "model_module": "@jupyter-widgets/controls",
      "model_module_version": "1.5.0",
      "model_name": "DescriptionStyleModel",
      "state": {
       "_model_module": "@jupyter-widgets/controls",
       "_model_module_version": "1.5.0",
       "_model_name": "DescriptionStyleModel",
       "_view_count": null,
       "_view_module": "@jupyter-widgets/base",
       "_view_module_version": "1.2.0",
       "_view_name": "StyleView",
       "description_width": ""
      }
     },
     "07e566d1d8b241ea95d73284fd374af9": {
      "model_module": "@jupyter-widgets/controls",
      "model_module_version": "1.5.0",
      "model_name": "DescriptionStyleModel",
      "state": {
       "_model_module": "@jupyter-widgets/controls",
       "_model_module_version": "1.5.0",
       "_model_name": "DescriptionStyleModel",
       "_view_count": null,
       "_view_module": "@jupyter-widgets/base",
       "_view_module_version": "1.2.0",
       "_view_name": "StyleView",
       "description_width": ""
      }
     },
     "131887c268164cd2a6283d07e5f3d287": {
      "model_module": "@jupyter-widgets/controls",
      "model_module_version": "1.5.0",
      "model_name": "HBoxModel",
      "state": {
       "_dom_classes": [],
       "_model_module": "@jupyter-widgets/controls",
       "_model_module_version": "1.5.0",
       "_model_name": "HBoxModel",
       "_view_count": null,
       "_view_module": "@jupyter-widgets/controls",
       "_view_module_version": "1.5.0",
       "_view_name": "HBoxView",
       "box_style": "",
       "children": [
        "IPY_MODEL_553a0034b96f48d4b9ac1f9a9c28aa76",
        "IPY_MODEL_a41635e00bb243ebb1cd4a6d25036540"
       ],
       "layout": "IPY_MODEL_4958dab60f6a47c18e61ea4c465f4dc5"
      }
     },
     "1af0c790c94f46febd06c726829a698b": {
      "model_module": "@jupyter-widgets/controls",
      "model_module_version": "1.5.0",
      "model_name": "HBoxModel",
      "state": {
       "_dom_classes": [],
       "_model_module": "@jupyter-widgets/controls",
       "_model_module_version": "1.5.0",
       "_model_name": "HBoxModel",
       "_view_count": null,
       "_view_module": "@jupyter-widgets/controls",
       "_view_module_version": "1.5.0",
       "_view_name": "HBoxView",
       "box_style": "",
       "children": [
        "IPY_MODEL_4e208435e48c4ff3b738355fa6e3e683",
        "IPY_MODEL_e8f7ccf5f45348d496f41f0ca39b3c53"
       ],
       "layout": "IPY_MODEL_b9c937e3efbf448ebe5d3641cedb2abe"
      }
     },
     "2269170e4ea2434e916473bdf60aab25": {
      "model_module": "@jupyter-widgets/controls",
      "model_module_version": "1.5.0",
      "model_name": "DescriptionStyleModel",
      "state": {
       "_model_module": "@jupyter-widgets/controls",
       "_model_module_version": "1.5.0",
       "_model_name": "DescriptionStyleModel",
       "_view_count": null,
       "_view_module": "@jupyter-widgets/base",
       "_view_module_version": "1.2.0",
       "_view_name": "StyleView",
       "description_width": ""
      }
     },
     "25d6051ab72d42148606d86f46b98a94": {
      "model_module": "@jupyter-widgets/base",
      "model_module_version": "1.2.0",
      "model_name": "LayoutModel",
      "state": {
       "_model_module": "@jupyter-widgets/base",
       "_model_module_version": "1.2.0",
       "_model_name": "LayoutModel",
       "_view_count": null,
       "_view_module": "@jupyter-widgets/base",
       "_view_module_version": "1.2.0",
       "_view_name": "LayoutView",
       "align_content": null,
       "align_items": null,
       "align_self": null,
       "border": null,
       "bottom": null,
       "display": null,
       "flex": null,
       "flex_flow": null,
       "grid_area": null,
       "grid_auto_columns": null,
       "grid_auto_flow": null,
       "grid_auto_rows": null,
       "grid_column": null,
       "grid_gap": null,
       "grid_row": null,
       "grid_template_areas": null,
       "grid_template_columns": null,
       "grid_template_rows": null,
       "height": null,
       "justify_content": null,
       "justify_items": null,
       "left": null,
       "margin": null,
       "max_height": null,
       "max_width": null,
       "min_height": null,
       "min_width": null,
       "object_fit": null,
       "object_position": null,
       "order": null,
       "overflow": null,
       "overflow_x": null,
       "overflow_y": null,
       "padding": null,
       "right": null,
       "top": null,
       "visibility": null,
       "width": null
      }
     },
     "3aba15bea79d49d28fd25857bca39148": {
      "model_module": "@jupyter-widgets/controls",
      "model_module_version": "1.5.0",
      "model_name": "HBoxModel",
      "state": {
       "_dom_classes": [],
       "_model_module": "@jupyter-widgets/controls",
       "_model_module_version": "1.5.0",
       "_model_name": "HBoxModel",
       "_view_count": null,
       "_view_module": "@jupyter-widgets/controls",
       "_view_module_version": "1.5.0",
       "_view_name": "HBoxView",
       "box_style": "",
       "children": [
        "IPY_MODEL_d70dc3cd431943abbf3e1df57cd55a83",
        "IPY_MODEL_c62e9f679f3e4d7c8b49dea1f9d488a0"
       ],
       "layout": "IPY_MODEL_25d6051ab72d42148606d86f46b98a94"
      }
     },
     "48f3ef911cc04dc2ad2b9cac92b3b736": {
      "model_module": "@jupyter-widgets/base",
      "model_module_version": "1.2.0",
      "model_name": "LayoutModel",
      "state": {
       "_model_module": "@jupyter-widgets/base",
       "_model_module_version": "1.2.0",
       "_model_name": "LayoutModel",
       "_view_count": null,
       "_view_module": "@jupyter-widgets/base",
       "_view_module_version": "1.2.0",
       "_view_name": "LayoutView",
       "align_content": null,
       "align_items": null,
       "align_self": null,
       "border": null,
       "bottom": null,
       "display": null,
       "flex": null,
       "flex_flow": null,
       "grid_area": null,
       "grid_auto_columns": null,
       "grid_auto_flow": null,
       "grid_auto_rows": null,
       "grid_column": null,
       "grid_gap": null,
       "grid_row": null,
       "grid_template_areas": null,
       "grid_template_columns": null,
       "grid_template_rows": null,
       "height": null,
       "justify_content": null,
       "justify_items": null,
       "left": null,
       "margin": null,
       "max_height": null,
       "max_width": null,
       "min_height": null,
       "min_width": null,
       "object_fit": null,
       "object_position": null,
       "order": null,
       "overflow": null,
       "overflow_x": null,
       "overflow_y": null,
       "padding": null,
       "right": null,
       "top": null,
       "visibility": null,
       "width": null
      }
     },
     "4958dab60f6a47c18e61ea4c465f4dc5": {
      "model_module": "@jupyter-widgets/base",
      "model_module_version": "1.2.0",
      "model_name": "LayoutModel",
      "state": {
       "_model_module": "@jupyter-widgets/base",
       "_model_module_version": "1.2.0",
       "_model_name": "LayoutModel",
       "_view_count": null,
       "_view_module": "@jupyter-widgets/base",
       "_view_module_version": "1.2.0",
       "_view_name": "LayoutView",
       "align_content": null,
       "align_items": null,
       "align_self": null,
       "border": null,
       "bottom": null,
       "display": null,
       "flex": null,
       "flex_flow": null,
       "grid_area": null,
       "grid_auto_columns": null,
       "grid_auto_flow": null,
       "grid_auto_rows": null,
       "grid_column": null,
       "grid_gap": null,
       "grid_row": null,
       "grid_template_areas": null,
       "grid_template_columns": null,
       "grid_template_rows": null,
       "height": null,
       "justify_content": null,
       "justify_items": null,
       "left": null,
       "margin": null,
       "max_height": null,
       "max_width": null,
       "min_height": null,
       "min_width": null,
       "object_fit": null,
       "object_position": null,
       "order": null,
       "overflow": null,
       "overflow_x": null,
       "overflow_y": null,
       "padding": null,
       "right": null,
       "top": null,
       "visibility": null,
       "width": null
      }
     },
     "4e208435e48c4ff3b738355fa6e3e683": {
      "model_module": "@jupyter-widgets/controls",
      "model_module_version": "1.5.0",
      "model_name": "FloatProgressModel",
      "state": {
       "_dom_classes": [],
       "_model_module": "@jupyter-widgets/controls",
       "_model_module_version": "1.5.0",
       "_model_name": "FloatProgressModel",
       "_view_count": null,
       "_view_module": "@jupyter-widgets/controls",
       "_view_module_version": "1.5.0",
       "_view_name": "ProgressView",
       "bar_style": "success",
       "description": "Downloading: 100%",
       "description_tooltip": null,
       "layout": "IPY_MODEL_48f3ef911cc04dc2ad2b9cac92b3b736",
       "max": 764,
       "min": 0,
       "orientation": "horizontal",
       "style": "IPY_MODEL_864d365585994a64ad312846db96df4c",
       "value": 764
      }
     },
     "553a0034b96f48d4b9ac1f9a9c28aa76": {
      "model_module": "@jupyter-widgets/controls",
      "model_module_version": "1.5.0",
      "model_name": "FloatProgressModel",
      "state": {
       "_dom_classes": [],
       "_model_module": "@jupyter-widgets/controls",
       "_model_module_version": "1.5.0",
       "_model_name": "FloatProgressModel",
       "_view_count": null,
       "_view_module": "@jupyter-widgets/controls",
       "_view_module_version": "1.5.0",
       "_view_name": "ProgressView",
       "bar_style": "success",
       "description": "Downloading: 100%",
       "description_tooltip": null,
       "layout": "IPY_MODEL_abde418a2fd847ffac205a74e55a7b22",
       "max": 456318,
       "min": 0,
       "orientation": "horizontal",
       "style": "IPY_MODEL_b33fdac701144794a613c002623c50a4",
       "value": 456318
      }
     },
     "5cd94184227a48678dfe1917bffd4080": {
      "model_module": "@jupyter-widgets/base",
      "model_module_version": "1.2.0",
      "model_name": "LayoutModel",
      "state": {
       "_model_module": "@jupyter-widgets/base",
       "_model_module_version": "1.2.0",
       "_model_name": "LayoutModel",
       "_view_count": null,
       "_view_module": "@jupyter-widgets/base",
       "_view_module_version": "1.2.0",
       "_view_name": "LayoutView",
       "align_content": null,
       "align_items": null,
       "align_self": null,
       "border": null,
       "bottom": null,
       "display": null,
       "flex": null,
       "flex_flow": null,
       "grid_area": null,
       "grid_auto_columns": null,
       "grid_auto_flow": null,
       "grid_auto_rows": null,
       "grid_column": null,
       "grid_gap": null,
       "grid_row": null,
       "grid_template_areas": null,
       "grid_template_columns": null,
       "grid_template_rows": null,
       "height": null,
       "justify_content": null,
       "justify_items": null,
       "left": null,
       "margin": null,
       "max_height": null,
       "max_width": null,
       "min_height": null,
       "min_width": null,
       "object_fit": null,
       "object_position": null,
       "order": null,
       "overflow": null,
       "overflow_x": null,
       "overflow_y": null,
       "padding": null,
       "right": null,
       "top": null,
       "visibility": null,
       "width": null
      }
     },
     "6dc38f21e1204eec9e839ba7b0dbafdb": {
      "model_module": "@jupyter-widgets/base",
      "model_module_version": "1.2.0",
      "model_name": "LayoutModel",
      "state": {
       "_model_module": "@jupyter-widgets/base",
       "_model_module_version": "1.2.0",
       "_model_name": "LayoutModel",
       "_view_count": null,
       "_view_module": "@jupyter-widgets/base",
       "_view_module_version": "1.2.0",
       "_view_name": "LayoutView",
       "align_content": null,
       "align_items": null,
       "align_self": null,
       "border": null,
       "bottom": null,
       "display": null,
       "flex": null,
       "flex_flow": null,
       "grid_area": null,
       "grid_auto_columns": null,
       "grid_auto_flow": null,
       "grid_auto_rows": null,
       "grid_column": null,
       "grid_gap": null,
       "grid_row": null,
       "grid_template_areas": null,
       "grid_template_columns": null,
       "grid_template_rows": null,
       "height": null,
       "justify_content": null,
       "justify_items": null,
       "left": null,
       "margin": null,
       "max_height": null,
       "max_width": null,
       "min_height": null,
       "min_width": null,
       "object_fit": null,
       "object_position": null,
       "order": null,
       "overflow": null,
       "overflow_x": null,
       "overflow_y": null,
       "padding": null,
       "right": null,
       "top": null,
       "visibility": null,
       "width": null
      }
     },
     "72d7fc5fb9ad4020ae1a6cda853dad87": {
      "model_module": "@jupyter-widgets/controls",
      "model_module_version": "1.5.0",
      "model_name": "HTMLModel",
      "state": {
       "_dom_classes": [],
       "_model_module": "@jupyter-widgets/controls",
       "_model_module_version": "1.5.0",
       "_model_name": "HTMLModel",
       "_view_count": null,
       "_view_module": "@jupyter-widgets/controls",
       "_view_module_version": "1.5.0",
       "_view_name": "HTMLView",
       "description": "",
       "description_tooltip": null,
       "layout": "IPY_MODEL_75c0c0d507cd40bc88844ed94c5278bb",
       "placeholder": "​",
       "style": "IPY_MODEL_04b96f2bf3bd47ab9fa6948211b98145",
       "value": " 3.10G/3.10G [01:27&lt;00:00, 35.6MB/s]"
      }
     },
     "75c0c0d507cd40bc88844ed94c5278bb": {
      "model_module": "@jupyter-widgets/base",
      "model_module_version": "1.2.0",
      "model_name": "LayoutModel",
      "state": {
       "_model_module": "@jupyter-widgets/base",
       "_model_module_version": "1.2.0",
       "_model_name": "LayoutModel",
       "_view_count": null,
       "_view_module": "@jupyter-widgets/base",
       "_view_module_version": "1.2.0",
       "_view_name": "LayoutView",
       "align_content": null,
       "align_items": null,
       "align_self": null,
       "border": null,
       "bottom": null,
       "display": null,
       "flex": null,
       "flex_flow": null,
       "grid_area": null,
       "grid_auto_columns": null,
       "grid_auto_flow": null,
       "grid_auto_rows": null,
       "grid_column": null,
       "grid_gap": null,
       "grid_row": null,
       "grid_template_areas": null,
       "grid_template_columns": null,
       "grid_template_rows": null,
       "height": null,
       "justify_content": null,
       "justify_items": null,
       "left": null,
       "margin": null,
       "max_height": null,
       "max_width": null,
       "min_height": null,
       "min_width": null,
       "object_fit": null,
       "object_position": null,
       "order": null,
       "overflow": null,
       "overflow_x": null,
       "overflow_y": null,
       "padding": null,
       "right": null,
       "top": null,
       "visibility": null,
       "width": null
      }
     },
     "7b918064608a426fa3c7c1dab796a1a7": {
      "model_module": "@jupyter-widgets/base",
      "model_module_version": "1.2.0",
      "model_name": "LayoutModel",
      "state": {
       "_model_module": "@jupyter-widgets/base",
       "_model_module_version": "1.2.0",
       "_model_name": "LayoutModel",
       "_view_count": null,
       "_view_module": "@jupyter-widgets/base",
       "_view_module_version": "1.2.0",
       "_view_name": "LayoutView",
       "align_content": null,
       "align_items": null,
       "align_self": null,
       "border": null,
       "bottom": null,
       "display": null,
       "flex": null,
       "flex_flow": null,
       "grid_area": null,
       "grid_auto_columns": null,
       "grid_auto_flow": null,
       "grid_auto_rows": null,
       "grid_column": null,
       "grid_gap": null,
       "grid_row": null,
       "grid_template_areas": null,
       "grid_template_columns": null,
       "grid_template_rows": null,
       "height": null,
       "justify_content": null,
       "justify_items": null,
       "left": null,
       "margin": null,
       "max_height": null,
       "max_width": null,
       "min_height": null,
       "min_width": null,
       "object_fit": null,
       "object_position": null,
       "order": null,
       "overflow": null,
       "overflow_x": null,
       "overflow_y": null,
       "padding": null,
       "right": null,
       "top": null,
       "visibility": null,
       "width": null
      }
     },
     "864d365585994a64ad312846db96df4c": {
      "model_module": "@jupyter-widgets/controls",
      "model_module_version": "1.5.0",
      "model_name": "ProgressStyleModel",
      "state": {
       "_model_module": "@jupyter-widgets/controls",
       "_model_module_version": "1.5.0",
       "_model_name": "ProgressStyleModel",
       "_view_count": null,
       "_view_module": "@jupyter-widgets/base",
       "_view_module_version": "1.2.0",
       "_view_name": "StyleView",
       "bar_color": null,
       "description_width": "initial"
      }
     },
     "8a84e8103df84141b2c70989b62d649d": {
      "model_module": "@jupyter-widgets/base",
      "model_module_version": "1.2.0",
      "model_name": "LayoutModel",
      "state": {
       "_model_module": "@jupyter-widgets/base",
       "_model_module_version": "1.2.0",
       "_model_name": "LayoutModel",
       "_view_count": null,
       "_view_module": "@jupyter-widgets/base",
       "_view_module_version": "1.2.0",
       "_view_name": "LayoutView",
       "align_content": null,
       "align_items": null,
       "align_self": null,
       "border": null,
       "bottom": null,
       "display": null,
       "flex": null,
       "flex_flow": null,
       "grid_area": null,
       "grid_auto_columns": null,
       "grid_auto_flow": null,
       "grid_auto_rows": null,
       "grid_column": null,
       "grid_gap": null,
       "grid_row": null,
       "grid_template_areas": null,
       "grid_template_columns": null,
       "grid_template_rows": null,
       "height": null,
       "justify_content": null,
       "justify_items": null,
       "left": null,
       "margin": null,
       "max_height": null,
       "max_width": null,
       "min_height": null,
       "min_width": null,
       "object_fit": null,
       "object_position": null,
       "order": null,
       "overflow": null,
       "overflow_x": null,
       "overflow_y": null,
       "padding": null,
       "right": null,
       "top": null,
       "visibility": null,
       "width": null
      }
     },
     "a2c3585520ba4443a184b90311cae0a0": {
      "model_module": "@jupyter-widgets/controls",
      "model_module_version": "1.5.0",
      "model_name": "ProgressStyleModel",
      "state": {
       "_model_module": "@jupyter-widgets/controls",
       "_model_module_version": "1.5.0",
       "_model_name": "ProgressStyleModel",
       "_view_count": null,
       "_view_module": "@jupyter-widgets/base",
       "_view_module_version": "1.2.0",
       "_view_name": "StyleView",
       "bar_color": null,
       "description_width": "initial"
      }
     },
     "a41635e00bb243ebb1cd4a6d25036540": {
      "model_module": "@jupyter-widgets/controls",
      "model_module_version": "1.5.0",
      "model_name": "HTMLModel",
      "state": {
       "_dom_classes": [],
       "_model_module": "@jupyter-widgets/controls",
       "_model_module_version": "1.5.0",
       "_model_name": "HTMLModel",
       "_view_count": null,
       "_view_module": "@jupyter-widgets/controls",
       "_view_module_version": "1.5.0",
       "_view_name": "HTMLView",
       "description": "",
       "description_tooltip": null,
       "layout": "IPY_MODEL_7b918064608a426fa3c7c1dab796a1a7",
       "placeholder": "​",
       "style": "IPY_MODEL_2269170e4ea2434e916473bdf60aab25",
       "value": " 456k/456k [00:00&lt;00:00, 3.48MB/s]"
      }
     },
     "a639528193e94b1bacd27fb949a2c95b": {
      "model_module": "@jupyter-widgets/base",
      "model_module_version": "1.2.0",
      "model_name": "LayoutModel",
      "state": {
       "_model_module": "@jupyter-widgets/base",
       "_model_module_version": "1.2.0",
       "_model_name": "LayoutModel",
       "_view_count": null,
       "_view_module": "@jupyter-widgets/base",
       "_view_module_version": "1.2.0",
       "_view_name": "LayoutView",
       "align_content": null,
       "align_items": null,
       "align_self": null,
       "border": null,
       "bottom": null,
       "display": null,
       "flex": null,
       "flex_flow": null,
       "grid_area": null,
       "grid_auto_columns": null,
       "grid_auto_flow": null,
       "grid_auto_rows": null,
       "grid_column": null,
       "grid_gap": null,
       "grid_row": null,
       "grid_template_areas": null,
       "grid_template_columns": null,
       "grid_template_rows": null,
       "height": null,
       "justify_content": null,
       "justify_items": null,
       "left": null,
       "margin": null,
       "max_height": null,
       "max_width": null,
       "min_height": null,
       "min_width": null,
       "object_fit": null,
       "object_position": null,
       "order": null,
       "overflow": null,
       "overflow_x": null,
       "overflow_y": null,
       "padding": null,
       "right": null,
       "top": null,
       "visibility": null,
       "width": null
      }
     },
     "abde418a2fd847ffac205a74e55a7b22": {
      "model_module": "@jupyter-widgets/base",
      "model_module_version": "1.2.0",
      "model_name": "LayoutModel",
      "state": {
       "_model_module": "@jupyter-widgets/base",
       "_model_module_version": "1.2.0",
       "_model_name": "LayoutModel",
       "_view_count": null,
       "_view_module": "@jupyter-widgets/base",
       "_view_module_version": "1.2.0",
       "_view_name": "LayoutView",
       "align_content": null,
       "align_items": null,
       "align_self": null,
       "border": null,
       "bottom": null,
       "display": null,
       "flex": null,
       "flex_flow": null,
       "grid_area": null,
       "grid_auto_columns": null,
       "grid_auto_flow": null,
       "grid_auto_rows": null,
       "grid_column": null,
       "grid_gap": null,
       "grid_row": null,
       "grid_template_areas": null,
       "grid_template_columns": null,
       "grid_template_rows": null,
       "height": null,
       "justify_content": null,
       "justify_items": null,
       "left": null,
       "margin": null,
       "max_height": null,
       "max_width": null,
       "min_height": null,
       "min_width": null,
       "object_fit": null,
       "object_position": null,
       "order": null,
       "overflow": null,
       "overflow_x": null,
       "overflow_y": null,
       "padding": null,
       "right": null,
       "top": null,
       "visibility": null,
       "width": null
      }
     },
     "b33fdac701144794a613c002623c50a4": {
      "model_module": "@jupyter-widgets/controls",
      "model_module_version": "1.5.0",
      "model_name": "ProgressStyleModel",
      "state": {
       "_model_module": "@jupyter-widgets/controls",
       "_model_module_version": "1.5.0",
       "_model_name": "ProgressStyleModel",
       "_view_count": null,
       "_view_module": "@jupyter-widgets/base",
       "_view_module_version": "1.2.0",
       "_view_name": "StyleView",
       "bar_color": null,
       "description_width": "initial"
      }
     },
     "b96eb4e37a7a48d4b792a1805bda4a17": {
      "model_module": "@jupyter-widgets/controls",
      "model_module_version": "1.5.0",
      "model_name": "FloatProgressModel",
      "state": {
       "_dom_classes": [],
       "_model_module": "@jupyter-widgets/controls",
       "_model_module_version": "1.5.0",
       "_model_name": "FloatProgressModel",
       "_view_count": null,
       "_view_module": "@jupyter-widgets/controls",
       "_view_module_version": "1.5.0",
       "_view_name": "ProgressView",
       "bar_style": "success",
       "description": "Downloading: 100%",
       "description_tooltip": null,
       "layout": "IPY_MODEL_0357f23486c1444c9924d8cc807b67f4",
       "max": 3096618024,
       "min": 0,
       "orientation": "horizontal",
       "style": "IPY_MODEL_f43d4269b80e4b8098bd5d02d1ff85bb",
       "value": 3096618024
      }
     },
     "b9c937e3efbf448ebe5d3641cedb2abe": {
      "model_module": "@jupyter-widgets/base",
      "model_module_version": "1.2.0",
      "model_name": "LayoutModel",
      "state": {
       "_model_module": "@jupyter-widgets/base",
       "_model_module_version": "1.2.0",
       "_model_name": "LayoutModel",
       "_view_count": null,
       "_view_module": "@jupyter-widgets/base",
       "_view_module_version": "1.2.0",
       "_view_name": "LayoutView",
       "align_content": null,
       "align_items": null,
       "align_self": null,
       "border": null,
       "bottom": null,
       "display": null,
       "flex": null,
       "flex_flow": null,
       "grid_area": null,
       "grid_auto_columns": null,
       "grid_auto_flow": null,
       "grid_auto_rows": null,
       "grid_column": null,
       "grid_gap": null,
       "grid_row": null,
       "grid_template_areas": null,
       "grid_template_columns": null,
       "grid_template_rows": null,
       "height": null,
       "justify_content": null,
       "justify_items": null,
       "left": null,
       "margin": null,
       "max_height": null,
       "max_width": null,
       "min_height": null,
       "min_width": null,
       "object_fit": null,
       "object_position": null,
       "order": null,
       "overflow": null,
       "overflow_x": null,
       "overflow_y": null,
       "padding": null,
       "right": null,
       "top": null,
       "visibility": null,
       "width": null
      }
     },
     "c62e9f679f3e4d7c8b49dea1f9d488a0": {
      "model_module": "@jupyter-widgets/controls",
      "model_module_version": "1.5.0",
      "model_name": "HTMLModel",
      "state": {
       "_dom_classes": [],
       "_model_module": "@jupyter-widgets/controls",
       "_model_module_version": "1.5.0",
       "_model_name": "HTMLModel",
       "_view_count": null,
       "_view_module": "@jupyter-widgets/controls",
       "_view_module_version": "1.5.0",
       "_view_name": "HTMLView",
       "description": "",
       "description_tooltip": null,
       "layout": "IPY_MODEL_8a84e8103df84141b2c70989b62d649d",
       "placeholder": "​",
       "style": "IPY_MODEL_07e566d1d8b241ea95d73284fd374af9",
       "value": " 1.04M/1.04M [00:00&lt;00:00, 2.10MB/s]"
      }
     },
     "ce13bba33eac46cfaf8df0fa1be8039f": {
      "model_module": "@jupyter-widgets/controls",
      "model_module_version": "1.5.0",
      "model_name": "DescriptionStyleModel",
      "state": {
       "_model_module": "@jupyter-widgets/controls",
       "_model_module_version": "1.5.0",
       "_model_name": "DescriptionStyleModel",
       "_view_count": null,
       "_view_module": "@jupyter-widgets/base",
       "_view_module_version": "1.2.0",
       "_view_name": "StyleView",
       "description_width": ""
      }
     },
     "d70dc3cd431943abbf3e1df57cd55a83": {
      "model_module": "@jupyter-widgets/controls",
      "model_module_version": "1.5.0",
      "model_name": "FloatProgressModel",
      "state": {
       "_dom_classes": [],
       "_model_module": "@jupyter-widgets/controls",
       "_model_module_version": "1.5.0",
       "_model_name": "FloatProgressModel",
       "_view_count": null,
       "_view_module": "@jupyter-widgets/controls",
       "_view_module_version": "1.5.0",
       "_view_name": "ProgressView",
       "bar_style": "success",
       "description": "Downloading: 100%",
       "description_tooltip": null,
       "layout": "IPY_MODEL_a639528193e94b1bacd27fb949a2c95b",
       "max": 1042301,
       "min": 0,
       "orientation": "horizontal",
       "style": "IPY_MODEL_a2c3585520ba4443a184b90311cae0a0",
       "value": 1042301
      }
     },
     "e36b76cd1ea24effb43732cc57198f2e": {
      "model_module": "@jupyter-widgets/controls",
      "model_module_version": "1.5.0",
      "model_name": "HBoxModel",
      "state": {
       "_dom_classes": [],
       "_model_module": "@jupyter-widgets/controls",
       "_model_module_version": "1.5.0",
       "_model_name": "HBoxModel",
       "_view_count": null,
       "_view_module": "@jupyter-widgets/controls",
       "_view_module_version": "1.5.0",
       "_view_name": "HBoxView",
       "box_style": "",
       "children": [
        "IPY_MODEL_b96eb4e37a7a48d4b792a1805bda4a17",
        "IPY_MODEL_72d7fc5fb9ad4020ae1a6cda853dad87"
       ],
       "layout": "IPY_MODEL_6dc38f21e1204eec9e839ba7b0dbafdb"
      }
     },
     "e8f7ccf5f45348d496f41f0ca39b3c53": {
      "model_module": "@jupyter-widgets/controls",
      "model_module_version": "1.5.0",
      "model_name": "HTMLModel",
      "state": {
       "_dom_classes": [],
       "_model_module": "@jupyter-widgets/controls",
       "_model_module_version": "1.5.0",
       "_model_name": "HTMLModel",
       "_view_count": null,
       "_view_module": "@jupyter-widgets/controls",
       "_view_module_version": "1.5.0",
       "_view_name": "HTMLView",
       "description": "",
       "description_tooltip": null,
       "layout": "IPY_MODEL_5cd94184227a48678dfe1917bffd4080",
       "placeholder": "​",
       "style": "IPY_MODEL_ce13bba33eac46cfaf8df0fa1be8039f",
       "value": " 764/764 [01:28&lt;00:00, 8.65B/s]"
      }
     },
     "f43d4269b80e4b8098bd5d02d1ff85bb": {
      "model_module": "@jupyter-widgets/controls",
      "model_module_version": "1.5.0",
      "model_name": "ProgressStyleModel",
      "state": {
       "_model_module": "@jupyter-widgets/controls",
       "_model_module_version": "1.5.0",
       "_model_name": "ProgressStyleModel",
       "_view_count": null,
       "_view_module": "@jupyter-widgets/base",
       "_view_module_version": "1.2.0",
       "_view_name": "StyleView",
       "bar_color": null,
       "description_width": "initial"
      }
     }
    },
    "version_major": 2,
    "version_minor": 0
   }
  }
 },
 "nbformat": 4,
 "nbformat_minor": 4
}
